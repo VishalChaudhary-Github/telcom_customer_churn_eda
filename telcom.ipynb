{
 "cells": [
  {
   "cell_type": "code",
   "id": "initial_id",
   "metadata": {
    "collapsed": true,
    "ExecuteTime": {
     "end_time": "2024-12-13T06:44:05.191085Z",
     "start_time": "2024-12-13T06:44:02.346108Z"
    }
   },
   "source": [
    "import pandas as pd\n",
    "import numpy as np"
   ],
   "outputs": [],
   "execution_count": 1
  },
  {
   "metadata": {
    "ExecuteTime": {
     "end_time": "2024-12-13T06:44:05.317883Z",
     "start_time": "2024-12-13T06:44:05.192091Z"
    }
   },
   "cell_type": "code",
   "source": "data = pd.read_csv(\"D:/Projects/Telco Customer Churn/WA_Fn-UseC_-Telco-Customer-Churn.csv\", sep=',')",
   "id": "45d01f9146566a81",
   "outputs": [],
   "execution_count": 2
  },
  {
   "metadata": {
    "ExecuteTime": {
     "end_time": "2024-12-13T06:44:05.342101Z",
     "start_time": "2024-12-13T06:44:05.317883Z"
    }
   },
   "cell_type": "code",
   "source": [
    "data.isna().mean() * 100\n",
    "# This dataset has no missing data"
   ],
   "id": "a25da2c9202d1be6",
   "outputs": [
    {
     "data": {
      "text/plain": [
       "customerID          0.0\n",
       "gender              0.0\n",
       "SeniorCitizen       0.0\n",
       "Partner             0.0\n",
       "Dependents          0.0\n",
       "tenure              0.0\n",
       "PhoneService        0.0\n",
       "MultipleLines       0.0\n",
       "InternetService     0.0\n",
       "OnlineSecurity      0.0\n",
       "OnlineBackup        0.0\n",
       "DeviceProtection    0.0\n",
       "TechSupport         0.0\n",
       "StreamingTV         0.0\n",
       "StreamingMovies     0.0\n",
       "Contract            0.0\n",
       "PaperlessBilling    0.0\n",
       "PaymentMethod       0.0\n",
       "MonthlyCharges      0.0\n",
       "TotalCharges        0.0\n",
       "Churn               0.0\n",
       "dtype: float64"
      ]
     },
     "execution_count": 3,
     "metadata": {},
     "output_type": "execute_result"
    }
   ],
   "execution_count": 3
  },
  {
   "metadata": {
    "ExecuteTime": {
     "end_time": "2024-12-13T06:44:05.351020Z",
     "start_time": "2024-12-13T06:44:05.342101Z"
    }
   },
   "cell_type": "code",
   "source": [
    "data['Churn'] = np.select(\n",
    "    condlist=[data['Churn'] == 'Yes'],\n",
    "    choicelist=[True],\n",
    "    default=False\n",
    ")"
   ],
   "id": "be2083dc766f6484",
   "outputs": [],
   "execution_count": 4
  },
  {
   "metadata": {
    "ExecuteTime": {
     "end_time": "2024-12-13T06:44:05.388493Z",
     "start_time": "2024-12-13T06:44:05.351020Z"
    }
   },
   "cell_type": "code",
   "source": [
    "data\n",
    "# SeniorCitizen - Indicates if the customer is 65 or older\n",
    "# Partner - Indicates if the customer is married or not\n",
    "# Dependents - Indicates if the customer lives with any dependent or not (children, parents or grandparents etc.)\n",
    "# tenure - indicates the total amount of months that the customer has been with the company\n",
    "# PhoneService - Indicates if the customer subscribes to home phone service with the company: Yes, No\n",
    "# Multiple Lines: Indicates if the customer subscribes to multiple telephone lines with the company: Yes, No\n",
    "# Internet Service: Indicates if the customer subscribes to Internet service with the company: No, DSL, Fiber Optic, Cable.\n",
    "\n",
    "# Add-on services\n",
    "# Online Security: Indicates if the customer subscribes to an additional online security service provided by the company: Yes, No\n",
    "# Online Backup: Indicates if the customer subscribes to an additional online backup service provided by the company: Yes, No\n",
    "# Device Protection Plan: Indicates if the customer subscribes to an additional device protection plan for their Internet equipment provided by the company: Yes, No\n",
    "#Premium Tech Support: Indicates if the customer subscribes to an additional technical support plan from the company with reduced wait times: Yes, No\n",
    "# Streaming TV: Indicates if the customer uses their Internet service to stream television programing from a third party provider: Yes, No. The company does not charge an additional fee for this service.\n",
    "# Streaming Movies: Indicates if the customer uses their Internet service to stream movies from a third party provider: Yes, No. The company does not charge an additional fee for this service.\n",
    "# Contract: Indicates the customer’s current contract type: Month-to-Month, One Year, Two Year.\n",
    "# Paperless Billing: Indicates if the customer has chosen paperless billing: Yes, No\n",
    "# Payment Method: Indicates how the customer pays their bill: Bank Withdrawal, Credit Card, Mailed Check\n",
    "# Total charges - net charge of their tenure"
   ],
   "id": "380357c2d88c6da9",
   "outputs": [
    {
     "data": {
      "text/plain": [
       "      customerID  gender  SeniorCitizen Partner Dependents  tenure  \\\n",
       "0     7590-VHVEG  Female              0     Yes         No       1   \n",
       "1     5575-GNVDE    Male              0      No         No      34   \n",
       "2     3668-QPYBK    Male              0      No         No       2   \n",
       "3     7795-CFOCW    Male              0      No         No      45   \n",
       "4     9237-HQITU  Female              0      No         No       2   \n",
       "...          ...     ...            ...     ...        ...     ...   \n",
       "7038  6840-RESVB    Male              0     Yes        Yes      24   \n",
       "7039  2234-XADUH  Female              0     Yes        Yes      72   \n",
       "7040  4801-JZAZL  Female              0     Yes        Yes      11   \n",
       "7041  8361-LTMKD    Male              1     Yes         No       4   \n",
       "7042  3186-AJIEK    Male              0      No         No      66   \n",
       "\n",
       "     PhoneService     MultipleLines InternetService OnlineSecurity  ...  \\\n",
       "0              No  No phone service             DSL             No  ...   \n",
       "1             Yes                No             DSL            Yes  ...   \n",
       "2             Yes                No             DSL            Yes  ...   \n",
       "3              No  No phone service             DSL            Yes  ...   \n",
       "4             Yes                No     Fiber optic             No  ...   \n",
       "...           ...               ...             ...            ...  ...   \n",
       "7038          Yes               Yes             DSL            Yes  ...   \n",
       "7039          Yes               Yes     Fiber optic             No  ...   \n",
       "7040           No  No phone service             DSL            Yes  ...   \n",
       "7041          Yes               Yes     Fiber optic             No  ...   \n",
       "7042          Yes                No     Fiber optic            Yes  ...   \n",
       "\n",
       "     DeviceProtection TechSupport StreamingTV StreamingMovies        Contract  \\\n",
       "0                  No          No          No              No  Month-to-month   \n",
       "1                 Yes          No          No              No        One year   \n",
       "2                  No          No          No              No  Month-to-month   \n",
       "3                 Yes         Yes          No              No        One year   \n",
       "4                  No          No          No              No  Month-to-month   \n",
       "...               ...         ...         ...             ...             ...   \n",
       "7038              Yes         Yes         Yes             Yes        One year   \n",
       "7039              Yes          No         Yes             Yes        One year   \n",
       "7040               No          No          No              No  Month-to-month   \n",
       "7041               No          No          No              No  Month-to-month   \n",
       "7042              Yes         Yes         Yes             Yes        Two year   \n",
       "\n",
       "     PaperlessBilling              PaymentMethod MonthlyCharges  TotalCharges  \\\n",
       "0                 Yes           Electronic check          29.85         29.85   \n",
       "1                  No               Mailed check          56.95        1889.5   \n",
       "2                 Yes               Mailed check          53.85        108.15   \n",
       "3                  No  Bank transfer (automatic)          42.30       1840.75   \n",
       "4                 Yes           Electronic check          70.70        151.65   \n",
       "...               ...                        ...            ...           ...   \n",
       "7038              Yes               Mailed check          84.80        1990.5   \n",
       "7039              Yes    Credit card (automatic)         103.20        7362.9   \n",
       "7040              Yes           Electronic check          29.60        346.45   \n",
       "7041              Yes               Mailed check          74.40         306.6   \n",
       "7042              Yes  Bank transfer (automatic)         105.65        6844.5   \n",
       "\n",
       "      Churn  \n",
       "0     False  \n",
       "1     False  \n",
       "2      True  \n",
       "3     False  \n",
       "4      True  \n",
       "...     ...  \n",
       "7038  False  \n",
       "7039  False  \n",
       "7040  False  \n",
       "7041   True  \n",
       "7042  False  \n",
       "\n",
       "[7043 rows x 21 columns]"
      ],
      "text/html": [
       "<div>\n",
       "<style scoped>\n",
       "    .dataframe tbody tr th:only-of-type {\n",
       "        vertical-align: middle;\n",
       "    }\n",
       "\n",
       "    .dataframe tbody tr th {\n",
       "        vertical-align: top;\n",
       "    }\n",
       "\n",
       "    .dataframe thead th {\n",
       "        text-align: right;\n",
       "    }\n",
       "</style>\n",
       "<table border=\"1\" class=\"dataframe\">\n",
       "  <thead>\n",
       "    <tr style=\"text-align: right;\">\n",
       "      <th></th>\n",
       "      <th>customerID</th>\n",
       "      <th>gender</th>\n",
       "      <th>SeniorCitizen</th>\n",
       "      <th>Partner</th>\n",
       "      <th>Dependents</th>\n",
       "      <th>tenure</th>\n",
       "      <th>PhoneService</th>\n",
       "      <th>MultipleLines</th>\n",
       "      <th>InternetService</th>\n",
       "      <th>OnlineSecurity</th>\n",
       "      <th>...</th>\n",
       "      <th>DeviceProtection</th>\n",
       "      <th>TechSupport</th>\n",
       "      <th>StreamingTV</th>\n",
       "      <th>StreamingMovies</th>\n",
       "      <th>Contract</th>\n",
       "      <th>PaperlessBilling</th>\n",
       "      <th>PaymentMethod</th>\n",
       "      <th>MonthlyCharges</th>\n",
       "      <th>TotalCharges</th>\n",
       "      <th>Churn</th>\n",
       "    </tr>\n",
       "  </thead>\n",
       "  <tbody>\n",
       "    <tr>\n",
       "      <th>0</th>\n",
       "      <td>7590-VHVEG</td>\n",
       "      <td>Female</td>\n",
       "      <td>0</td>\n",
       "      <td>Yes</td>\n",
       "      <td>No</td>\n",
       "      <td>1</td>\n",
       "      <td>No</td>\n",
       "      <td>No phone service</td>\n",
       "      <td>DSL</td>\n",
       "      <td>No</td>\n",
       "      <td>...</td>\n",
       "      <td>No</td>\n",
       "      <td>No</td>\n",
       "      <td>No</td>\n",
       "      <td>No</td>\n",
       "      <td>Month-to-month</td>\n",
       "      <td>Yes</td>\n",
       "      <td>Electronic check</td>\n",
       "      <td>29.85</td>\n",
       "      <td>29.85</td>\n",
       "      <td>False</td>\n",
       "    </tr>\n",
       "    <tr>\n",
       "      <th>1</th>\n",
       "      <td>5575-GNVDE</td>\n",
       "      <td>Male</td>\n",
       "      <td>0</td>\n",
       "      <td>No</td>\n",
       "      <td>No</td>\n",
       "      <td>34</td>\n",
       "      <td>Yes</td>\n",
       "      <td>No</td>\n",
       "      <td>DSL</td>\n",
       "      <td>Yes</td>\n",
       "      <td>...</td>\n",
       "      <td>Yes</td>\n",
       "      <td>No</td>\n",
       "      <td>No</td>\n",
       "      <td>No</td>\n",
       "      <td>One year</td>\n",
       "      <td>No</td>\n",
       "      <td>Mailed check</td>\n",
       "      <td>56.95</td>\n",
       "      <td>1889.5</td>\n",
       "      <td>False</td>\n",
       "    </tr>\n",
       "    <tr>\n",
       "      <th>2</th>\n",
       "      <td>3668-QPYBK</td>\n",
       "      <td>Male</td>\n",
       "      <td>0</td>\n",
       "      <td>No</td>\n",
       "      <td>No</td>\n",
       "      <td>2</td>\n",
       "      <td>Yes</td>\n",
       "      <td>No</td>\n",
       "      <td>DSL</td>\n",
       "      <td>Yes</td>\n",
       "      <td>...</td>\n",
       "      <td>No</td>\n",
       "      <td>No</td>\n",
       "      <td>No</td>\n",
       "      <td>No</td>\n",
       "      <td>Month-to-month</td>\n",
       "      <td>Yes</td>\n",
       "      <td>Mailed check</td>\n",
       "      <td>53.85</td>\n",
       "      <td>108.15</td>\n",
       "      <td>True</td>\n",
       "    </tr>\n",
       "    <tr>\n",
       "      <th>3</th>\n",
       "      <td>7795-CFOCW</td>\n",
       "      <td>Male</td>\n",
       "      <td>0</td>\n",
       "      <td>No</td>\n",
       "      <td>No</td>\n",
       "      <td>45</td>\n",
       "      <td>No</td>\n",
       "      <td>No phone service</td>\n",
       "      <td>DSL</td>\n",
       "      <td>Yes</td>\n",
       "      <td>...</td>\n",
       "      <td>Yes</td>\n",
       "      <td>Yes</td>\n",
       "      <td>No</td>\n",
       "      <td>No</td>\n",
       "      <td>One year</td>\n",
       "      <td>No</td>\n",
       "      <td>Bank transfer (automatic)</td>\n",
       "      <td>42.30</td>\n",
       "      <td>1840.75</td>\n",
       "      <td>False</td>\n",
       "    </tr>\n",
       "    <tr>\n",
       "      <th>4</th>\n",
       "      <td>9237-HQITU</td>\n",
       "      <td>Female</td>\n",
       "      <td>0</td>\n",
       "      <td>No</td>\n",
       "      <td>No</td>\n",
       "      <td>2</td>\n",
       "      <td>Yes</td>\n",
       "      <td>No</td>\n",
       "      <td>Fiber optic</td>\n",
       "      <td>No</td>\n",
       "      <td>...</td>\n",
       "      <td>No</td>\n",
       "      <td>No</td>\n",
       "      <td>No</td>\n",
       "      <td>No</td>\n",
       "      <td>Month-to-month</td>\n",
       "      <td>Yes</td>\n",
       "      <td>Electronic check</td>\n",
       "      <td>70.70</td>\n",
       "      <td>151.65</td>\n",
       "      <td>True</td>\n",
       "    </tr>\n",
       "    <tr>\n",
       "      <th>...</th>\n",
       "      <td>...</td>\n",
       "      <td>...</td>\n",
       "      <td>...</td>\n",
       "      <td>...</td>\n",
       "      <td>...</td>\n",
       "      <td>...</td>\n",
       "      <td>...</td>\n",
       "      <td>...</td>\n",
       "      <td>...</td>\n",
       "      <td>...</td>\n",
       "      <td>...</td>\n",
       "      <td>...</td>\n",
       "      <td>...</td>\n",
       "      <td>...</td>\n",
       "      <td>...</td>\n",
       "      <td>...</td>\n",
       "      <td>...</td>\n",
       "      <td>...</td>\n",
       "      <td>...</td>\n",
       "      <td>...</td>\n",
       "      <td>...</td>\n",
       "    </tr>\n",
       "    <tr>\n",
       "      <th>7038</th>\n",
       "      <td>6840-RESVB</td>\n",
       "      <td>Male</td>\n",
       "      <td>0</td>\n",
       "      <td>Yes</td>\n",
       "      <td>Yes</td>\n",
       "      <td>24</td>\n",
       "      <td>Yes</td>\n",
       "      <td>Yes</td>\n",
       "      <td>DSL</td>\n",
       "      <td>Yes</td>\n",
       "      <td>...</td>\n",
       "      <td>Yes</td>\n",
       "      <td>Yes</td>\n",
       "      <td>Yes</td>\n",
       "      <td>Yes</td>\n",
       "      <td>One year</td>\n",
       "      <td>Yes</td>\n",
       "      <td>Mailed check</td>\n",
       "      <td>84.80</td>\n",
       "      <td>1990.5</td>\n",
       "      <td>False</td>\n",
       "    </tr>\n",
       "    <tr>\n",
       "      <th>7039</th>\n",
       "      <td>2234-XADUH</td>\n",
       "      <td>Female</td>\n",
       "      <td>0</td>\n",
       "      <td>Yes</td>\n",
       "      <td>Yes</td>\n",
       "      <td>72</td>\n",
       "      <td>Yes</td>\n",
       "      <td>Yes</td>\n",
       "      <td>Fiber optic</td>\n",
       "      <td>No</td>\n",
       "      <td>...</td>\n",
       "      <td>Yes</td>\n",
       "      <td>No</td>\n",
       "      <td>Yes</td>\n",
       "      <td>Yes</td>\n",
       "      <td>One year</td>\n",
       "      <td>Yes</td>\n",
       "      <td>Credit card (automatic)</td>\n",
       "      <td>103.20</td>\n",
       "      <td>7362.9</td>\n",
       "      <td>False</td>\n",
       "    </tr>\n",
       "    <tr>\n",
       "      <th>7040</th>\n",
       "      <td>4801-JZAZL</td>\n",
       "      <td>Female</td>\n",
       "      <td>0</td>\n",
       "      <td>Yes</td>\n",
       "      <td>Yes</td>\n",
       "      <td>11</td>\n",
       "      <td>No</td>\n",
       "      <td>No phone service</td>\n",
       "      <td>DSL</td>\n",
       "      <td>Yes</td>\n",
       "      <td>...</td>\n",
       "      <td>No</td>\n",
       "      <td>No</td>\n",
       "      <td>No</td>\n",
       "      <td>No</td>\n",
       "      <td>Month-to-month</td>\n",
       "      <td>Yes</td>\n",
       "      <td>Electronic check</td>\n",
       "      <td>29.60</td>\n",
       "      <td>346.45</td>\n",
       "      <td>False</td>\n",
       "    </tr>\n",
       "    <tr>\n",
       "      <th>7041</th>\n",
       "      <td>8361-LTMKD</td>\n",
       "      <td>Male</td>\n",
       "      <td>1</td>\n",
       "      <td>Yes</td>\n",
       "      <td>No</td>\n",
       "      <td>4</td>\n",
       "      <td>Yes</td>\n",
       "      <td>Yes</td>\n",
       "      <td>Fiber optic</td>\n",
       "      <td>No</td>\n",
       "      <td>...</td>\n",
       "      <td>No</td>\n",
       "      <td>No</td>\n",
       "      <td>No</td>\n",
       "      <td>No</td>\n",
       "      <td>Month-to-month</td>\n",
       "      <td>Yes</td>\n",
       "      <td>Mailed check</td>\n",
       "      <td>74.40</td>\n",
       "      <td>306.6</td>\n",
       "      <td>True</td>\n",
       "    </tr>\n",
       "    <tr>\n",
       "      <th>7042</th>\n",
       "      <td>3186-AJIEK</td>\n",
       "      <td>Male</td>\n",
       "      <td>0</td>\n",
       "      <td>No</td>\n",
       "      <td>No</td>\n",
       "      <td>66</td>\n",
       "      <td>Yes</td>\n",
       "      <td>No</td>\n",
       "      <td>Fiber optic</td>\n",
       "      <td>Yes</td>\n",
       "      <td>...</td>\n",
       "      <td>Yes</td>\n",
       "      <td>Yes</td>\n",
       "      <td>Yes</td>\n",
       "      <td>Yes</td>\n",
       "      <td>Two year</td>\n",
       "      <td>Yes</td>\n",
       "      <td>Bank transfer (automatic)</td>\n",
       "      <td>105.65</td>\n",
       "      <td>6844.5</td>\n",
       "      <td>False</td>\n",
       "    </tr>\n",
       "  </tbody>\n",
       "</table>\n",
       "<p>7043 rows × 21 columns</p>\n",
       "</div>"
      ]
     },
     "execution_count": 5,
     "metadata": {},
     "output_type": "execute_result"
    }
   ],
   "execution_count": 5
  },
  {
   "metadata": {
    "ExecuteTime": {
     "end_time": "2024-12-13T06:44:05.396194Z",
     "start_time": "2024-12-13T06:44:05.388493Z"
    }
   },
   "cell_type": "code",
   "source": [
    "# KPI - Overall Churn Rate \n",
    "data['Churn'].mean() * 100"
   ],
   "id": "885143245c74049a",
   "outputs": [
    {
     "data": {
      "text/plain": [
       "np.float64(26.536987079369588)"
      ]
     },
     "execution_count": 6,
     "metadata": {},
     "output_type": "execute_result"
    }
   ],
   "execution_count": 6
  },
  {
   "metadata": {
    "ExecuteTime": {
     "end_time": "2024-12-13T06:44:05.409318Z",
     "start_time": "2024-12-13T06:44:05.397554Z"
    }
   },
   "cell_type": "code",
   "source": "data.groupby('gender')['Churn'].mean() * 100",
   "id": "9a1aa05406cb0b94",
   "outputs": [
    {
     "data": {
      "text/plain": [
       "gender\n",
       "Female    26.920872\n",
       "Male      26.160338\n",
       "Name: Churn, dtype: float64"
      ]
     },
     "execution_count": 7,
     "metadata": {},
     "output_type": "execute_result"
    }
   ],
   "execution_count": 7
  },
  {
   "metadata": {
    "ExecuteTime": {
     "end_time": "2024-12-13T06:44:05.417407Z",
     "start_time": "2024-12-13T06:44:05.409426Z"
    }
   },
   "cell_type": "code",
   "source": "# Both genders are equally likely to churn",
   "id": "1a0774391b951f5f",
   "outputs": [],
   "execution_count": 8
  },
  {
   "metadata": {
    "ExecuteTime": {
     "end_time": "2024-12-13T06:44:05.431864Z",
     "start_time": "2024-12-13T06:44:05.417407Z"
    }
   },
   "cell_type": "code",
   "source": [
    "senior_agg = data.groupby('SeniorCitizen')['Churn'].mean() * 100\n",
    "senior_agg"
   ],
   "id": "ebe08a6e1553a511",
   "outputs": [
    {
     "data": {
      "text/plain": [
       "SeniorCitizen\n",
       "0    23.606168\n",
       "1    41.681261\n",
       "Name: Churn, dtype: float64"
      ]
     },
     "execution_count": 9,
     "metadata": {},
     "output_type": "execute_result"
    }
   ],
   "execution_count": 9
  },
  {
   "metadata": {
    "ExecuteTime": {
     "end_time": "2024-12-13T06:44:05.440469Z",
     "start_time": "2024-12-13T06:44:05.431864Z"
    }
   },
   "cell_type": "code",
   "source": "(senior_agg.loc[1] - senior_agg.loc[0])/senior_agg.loc[0] * 100",
   "id": "f9acc358a1aebe4a",
   "outputs": [
    {
     "data": {
      "text/plain": [
       "np.float64(76.56936169463783)"
      ]
     },
     "execution_count": 10,
     "metadata": {},
     "output_type": "execute_result"
    }
   ],
   "execution_count": 10
  },
  {
   "metadata": {
    "ExecuteTime": {
     "end_time": "2024-12-13T06:44:05.450036Z",
     "start_time": "2024-12-13T06:44:05.441477Z"
    }
   },
   "cell_type": "code",
   "source": "# SeniorCitizens are more likely to churn than Non-Senior Citizens by almost 76.5%",
   "id": "e26fa0c92d54b0d6",
   "outputs": [],
   "execution_count": 11
  },
  {
   "metadata": {
    "ExecuteTime": {
     "end_time": "2024-12-13T06:44:05.465581Z",
     "start_time": "2024-12-13T06:44:05.450036Z"
    }
   },
   "cell_type": "code",
   "source": [
    "married_agg = data.groupby('Partner')['Churn'].mean() * 100\n",
    "married_agg"
   ],
   "id": "ad4c0c821e2e800b",
   "outputs": [
    {
     "data": {
      "text/plain": [
       "Partner\n",
       "No     32.957979\n",
       "Yes    19.664903\n",
       "Name: Churn, dtype: float64"
      ]
     },
     "execution_count": 12,
     "metadata": {},
     "output_type": "execute_result"
    }
   ],
   "execution_count": 12
  },
  {
   "metadata": {
    "ExecuteTime": {
     "end_time": "2024-12-13T06:44:05.473672Z",
     "start_time": "2024-12-13T06:44:05.465581Z"
    }
   },
   "cell_type": "code",
   "source": "(married_agg.loc['No'] - married_agg.loc['Yes'])/married_agg.loc['Yes'] * 100",
   "id": "4c8a1472a24048e5",
   "outputs": [
    {
     "data": {
      "text/plain": [
       "np.float64(67.59797177880715)"
      ]
     },
     "execution_count": 13,
     "metadata": {},
     "output_type": "execute_result"
    }
   ],
   "execution_count": 13
  },
  {
   "metadata": {
    "ExecuteTime": {
     "end_time": "2024-12-13T06:44:05.483408Z",
     "start_time": "2024-12-13T06:44:05.473672Z"
    }
   },
   "cell_type": "code",
   "source": "# Non-Married customers are more likely to churn than married customers by almost 67%",
   "id": "db13d96fa332f806",
   "outputs": [],
   "execution_count": 14
  },
  {
   "metadata": {
    "ExecuteTime": {
     "end_time": "2024-12-13T06:44:05.497022Z",
     "start_time": "2024-12-13T06:44:05.483408Z"
    }
   },
   "cell_type": "code",
   "source": [
    "dependent_agg = data.groupby('Dependents')['Churn'].mean() * 100\n",
    "dependent_agg"
   ],
   "id": "f28ad748ef23d85e",
   "outputs": [
    {
     "data": {
      "text/plain": [
       "Dependents\n",
       "No     31.279140\n",
       "Yes    15.450237\n",
       "Name: Churn, dtype: float64"
      ]
     },
     "execution_count": 15,
     "metadata": {},
     "output_type": "execute_result"
    }
   ],
   "execution_count": 15
  },
  {
   "metadata": {
    "ExecuteTime": {
     "end_time": "2024-12-13T06:44:05.505542Z",
     "start_time": "2024-12-13T06:44:05.497022Z"
    }
   },
   "cell_type": "code",
   "source": "(dependent_agg.loc['No'] - dependent_agg.loc['Yes'])/dependent_agg.loc['Yes'] * 100",
   "id": "adc8b6d0c5d79be0",
   "outputs": [
    {
     "data": {
      "text/plain": [
       "np.float64(102.45087858282578)"
      ]
     },
     "execution_count": 16,
     "metadata": {},
     "output_type": "execute_result"
    }
   ],
   "execution_count": 16
  },
  {
   "metadata": {
    "ExecuteTime": {
     "end_time": "2024-12-13T06:44:05.515508Z",
     "start_time": "2024-12-13T06:44:05.505542Z"
    }
   },
   "cell_type": "code",
   "source": "# Customers without any dependents are twice more likely to churn than customers with dependents",
   "id": "526565bf70256cc4",
   "outputs": [],
   "execution_count": 17
  },
  {
   "metadata": {
    "ExecuteTime": {
     "end_time": "2024-12-13T06:44:05.531102Z",
     "start_time": "2024-12-13T06:44:05.515508Z"
    }
   },
   "cell_type": "code",
   "source": [
    "data['time_period'] = np.select(\n",
    "    condlist=[data['tenure'] <= 6, data['tenure'] <= 12, data['tenure'] <= 24, data['tenure'] <= 36, data['tenure'] <= 48, data['tenure'] <= 60],\n",
    "    choicelist=['<= 6 Months', '<= 1 Year', '<= 2 Year', '<= 3 Year', '<= 4 Year', '<= 5 Year'],\n",
    "    default='> 5 Year'\n",
    ")"
   ],
   "id": "d5f7f2c5604d94df",
   "outputs": [],
   "execution_count": 18
  },
  {
   "metadata": {
    "ExecuteTime": {
     "end_time": "2024-12-13T06:44:05.583673Z",
     "start_time": "2024-12-13T06:44:05.531102Z"
    }
   },
   "cell_type": "code",
   "source": [
    "tenure_agg = (data.groupby('time_period')['Churn'].mean() * 100).sort_values(ascending=False)\n",
    "tenure_agg"
   ],
   "id": "734c40d3804b3f91",
   "outputs": [
    {
     "data": {
      "text/plain": [
       "time_period\n",
       "<= 6 Months    52.937205\n",
       "<= 1 Year      35.886525\n",
       "<= 2 Year      28.710938\n",
       "<= 3 Year      21.634615\n",
       "<= 4 Year      19.028871\n",
       "<= 5 Year      14.423077\n",
       "> 5 Year        6.609808\n",
       "Name: Churn, dtype: float64"
      ]
     },
     "execution_count": 19,
     "metadata": {},
     "output_type": "execute_result"
    }
   ],
   "execution_count": 19
  },
  {
   "metadata": {
    "ExecuteTime": {
     "end_time": "2024-12-13T06:44:05.591841Z",
     "start_time": "2024-12-13T06:44:05.583673Z"
    }
   },
   "cell_type": "code",
   "source": "(tenure_agg - tenure_agg.shift(-1))/tenure_agg * 100",
   "id": "92cde034d7950e18",
   "outputs": [
    {
     "data": {
      "text/plain": [
       "time_period\n",
       "<= 6 Months    32.209256\n",
       "<= 1 Year      19.995214\n",
       "<= 2 Year      24.646782\n",
       "<= 3 Year      12.044328\n",
       "<= 4 Year      24.204244\n",
       "<= 5 Year      54.171997\n",
       "> 5 Year             NaN\n",
       "Name: Churn, dtype: float64"
      ]
     },
     "execution_count": 20,
     "metadata": {},
     "output_type": "execute_result"
    }
   ],
   "execution_count": 20
  },
  {
   "metadata": {
    "ExecuteTime": {
     "end_time": "2024-12-13T06:44:05.602661Z",
     "start_time": "2024-12-13T06:44:05.591841Z"
    }
   },
   "cell_type": "code",
   "source": "((tenure_agg - tenure_agg.shift(-1))/tenure_agg * 100).mean()",
   "id": "9e7e0f502a08b49a",
   "outputs": [
    {
     "data": {
      "text/plain": [
       "np.float64(27.878636749918943)"
      ]
     },
     "execution_count": 21,
     "metadata": {},
     "output_type": "execute_result"
    }
   ],
   "execution_count": 21
  },
  {
   "metadata": {
    "ExecuteTime": {
     "end_time": "2024-12-13T06:44:05.612070Z",
     "start_time": "2024-12-13T06:44:05.602661Z"
    }
   },
   "cell_type": "code",
   "source": [
    "# About 52.93% of customers churn within first 6 months of their tenure.\n",
    "# After the first 6 Months customers are ~32% less likely to churn\n",
    "# For each year of customer loyalty, churn rate drops by an average of 27.8%\n",
    "# Customers with a loyalty of more than 5 years are least likely to churn with churn rate of only 6.6%"
   ],
   "id": "886691afd0aa8707",
   "outputs": [],
   "execution_count": 22
  },
  {
   "metadata": {
    "ExecuteTime": {
     "end_time": "2024-12-13T06:44:05.643265Z",
     "start_time": "2024-12-13T06:44:05.612070Z"
    }
   },
   "cell_type": "code",
   "source": [
    "data\n",
    "# PhoneService - Indicates if the customer subscribes to home phone service with the company: Yes, No\n",
    "# Multiple Lines: Indicates if the customer subscribes to multiple telephone lines with the company: Yes, No\n",
    "# Internet Service: Indicates if the customer subscribes to Internet service with the company: No, DSL, Fiber Optic, Cable."
   ],
   "id": "1f38f0ecd5e75dc4",
   "outputs": [
    {
     "data": {
      "text/plain": [
       "      customerID  gender  SeniorCitizen Partner Dependents  tenure  \\\n",
       "0     7590-VHVEG  Female              0     Yes         No       1   \n",
       "1     5575-GNVDE    Male              0      No         No      34   \n",
       "2     3668-QPYBK    Male              0      No         No       2   \n",
       "3     7795-CFOCW    Male              0      No         No      45   \n",
       "4     9237-HQITU  Female              0      No         No       2   \n",
       "...          ...     ...            ...     ...        ...     ...   \n",
       "7038  6840-RESVB    Male              0     Yes        Yes      24   \n",
       "7039  2234-XADUH  Female              0     Yes        Yes      72   \n",
       "7040  4801-JZAZL  Female              0     Yes        Yes      11   \n",
       "7041  8361-LTMKD    Male              1     Yes         No       4   \n",
       "7042  3186-AJIEK    Male              0      No         No      66   \n",
       "\n",
       "     PhoneService     MultipleLines InternetService OnlineSecurity  ...  \\\n",
       "0              No  No phone service             DSL             No  ...   \n",
       "1             Yes                No             DSL            Yes  ...   \n",
       "2             Yes                No             DSL            Yes  ...   \n",
       "3              No  No phone service             DSL            Yes  ...   \n",
       "4             Yes                No     Fiber optic             No  ...   \n",
       "...           ...               ...             ...            ...  ...   \n",
       "7038          Yes               Yes             DSL            Yes  ...   \n",
       "7039          Yes               Yes     Fiber optic             No  ...   \n",
       "7040           No  No phone service             DSL            Yes  ...   \n",
       "7041          Yes               Yes     Fiber optic             No  ...   \n",
       "7042          Yes                No     Fiber optic            Yes  ...   \n",
       "\n",
       "     TechSupport StreamingTV StreamingMovies        Contract PaperlessBilling  \\\n",
       "0             No          No              No  Month-to-month              Yes   \n",
       "1             No          No              No        One year               No   \n",
       "2             No          No              No  Month-to-month              Yes   \n",
       "3            Yes          No              No        One year               No   \n",
       "4             No          No              No  Month-to-month              Yes   \n",
       "...          ...         ...             ...             ...              ...   \n",
       "7038         Yes         Yes             Yes        One year              Yes   \n",
       "7039          No         Yes             Yes        One year              Yes   \n",
       "7040          No          No              No  Month-to-month              Yes   \n",
       "7041          No          No              No  Month-to-month              Yes   \n",
       "7042         Yes         Yes             Yes        Two year              Yes   \n",
       "\n",
       "                  PaymentMethod MonthlyCharges TotalCharges  Churn  \\\n",
       "0              Electronic check          29.85        29.85  False   \n",
       "1                  Mailed check          56.95       1889.5  False   \n",
       "2                  Mailed check          53.85       108.15   True   \n",
       "3     Bank transfer (automatic)          42.30      1840.75  False   \n",
       "4              Electronic check          70.70       151.65   True   \n",
       "...                         ...            ...          ...    ...   \n",
       "7038               Mailed check          84.80       1990.5  False   \n",
       "7039    Credit card (automatic)         103.20       7362.9  False   \n",
       "7040           Electronic check          29.60       346.45  False   \n",
       "7041               Mailed check          74.40        306.6   True   \n",
       "7042  Bank transfer (automatic)         105.65       6844.5  False   \n",
       "\n",
       "      time_period  \n",
       "0     <= 6 Months  \n",
       "1       <= 3 Year  \n",
       "2     <= 6 Months  \n",
       "3       <= 4 Year  \n",
       "4     <= 6 Months  \n",
       "...           ...  \n",
       "7038    <= 2 Year  \n",
       "7039     > 5 Year  \n",
       "7040    <= 1 Year  \n",
       "7041  <= 6 Months  \n",
       "7042     > 5 Year  \n",
       "\n",
       "[7043 rows x 22 columns]"
      ],
      "text/html": [
       "<div>\n",
       "<style scoped>\n",
       "    .dataframe tbody tr th:only-of-type {\n",
       "        vertical-align: middle;\n",
       "    }\n",
       "\n",
       "    .dataframe tbody tr th {\n",
       "        vertical-align: top;\n",
       "    }\n",
       "\n",
       "    .dataframe thead th {\n",
       "        text-align: right;\n",
       "    }\n",
       "</style>\n",
       "<table border=\"1\" class=\"dataframe\">\n",
       "  <thead>\n",
       "    <tr style=\"text-align: right;\">\n",
       "      <th></th>\n",
       "      <th>customerID</th>\n",
       "      <th>gender</th>\n",
       "      <th>SeniorCitizen</th>\n",
       "      <th>Partner</th>\n",
       "      <th>Dependents</th>\n",
       "      <th>tenure</th>\n",
       "      <th>PhoneService</th>\n",
       "      <th>MultipleLines</th>\n",
       "      <th>InternetService</th>\n",
       "      <th>OnlineSecurity</th>\n",
       "      <th>...</th>\n",
       "      <th>TechSupport</th>\n",
       "      <th>StreamingTV</th>\n",
       "      <th>StreamingMovies</th>\n",
       "      <th>Contract</th>\n",
       "      <th>PaperlessBilling</th>\n",
       "      <th>PaymentMethod</th>\n",
       "      <th>MonthlyCharges</th>\n",
       "      <th>TotalCharges</th>\n",
       "      <th>Churn</th>\n",
       "      <th>time_period</th>\n",
       "    </tr>\n",
       "  </thead>\n",
       "  <tbody>\n",
       "    <tr>\n",
       "      <th>0</th>\n",
       "      <td>7590-VHVEG</td>\n",
       "      <td>Female</td>\n",
       "      <td>0</td>\n",
       "      <td>Yes</td>\n",
       "      <td>No</td>\n",
       "      <td>1</td>\n",
       "      <td>No</td>\n",
       "      <td>No phone service</td>\n",
       "      <td>DSL</td>\n",
       "      <td>No</td>\n",
       "      <td>...</td>\n",
       "      <td>No</td>\n",
       "      <td>No</td>\n",
       "      <td>No</td>\n",
       "      <td>Month-to-month</td>\n",
       "      <td>Yes</td>\n",
       "      <td>Electronic check</td>\n",
       "      <td>29.85</td>\n",
       "      <td>29.85</td>\n",
       "      <td>False</td>\n",
       "      <td>&lt;= 6 Months</td>\n",
       "    </tr>\n",
       "    <tr>\n",
       "      <th>1</th>\n",
       "      <td>5575-GNVDE</td>\n",
       "      <td>Male</td>\n",
       "      <td>0</td>\n",
       "      <td>No</td>\n",
       "      <td>No</td>\n",
       "      <td>34</td>\n",
       "      <td>Yes</td>\n",
       "      <td>No</td>\n",
       "      <td>DSL</td>\n",
       "      <td>Yes</td>\n",
       "      <td>...</td>\n",
       "      <td>No</td>\n",
       "      <td>No</td>\n",
       "      <td>No</td>\n",
       "      <td>One year</td>\n",
       "      <td>No</td>\n",
       "      <td>Mailed check</td>\n",
       "      <td>56.95</td>\n",
       "      <td>1889.5</td>\n",
       "      <td>False</td>\n",
       "      <td>&lt;= 3 Year</td>\n",
       "    </tr>\n",
       "    <tr>\n",
       "      <th>2</th>\n",
       "      <td>3668-QPYBK</td>\n",
       "      <td>Male</td>\n",
       "      <td>0</td>\n",
       "      <td>No</td>\n",
       "      <td>No</td>\n",
       "      <td>2</td>\n",
       "      <td>Yes</td>\n",
       "      <td>No</td>\n",
       "      <td>DSL</td>\n",
       "      <td>Yes</td>\n",
       "      <td>...</td>\n",
       "      <td>No</td>\n",
       "      <td>No</td>\n",
       "      <td>No</td>\n",
       "      <td>Month-to-month</td>\n",
       "      <td>Yes</td>\n",
       "      <td>Mailed check</td>\n",
       "      <td>53.85</td>\n",
       "      <td>108.15</td>\n",
       "      <td>True</td>\n",
       "      <td>&lt;= 6 Months</td>\n",
       "    </tr>\n",
       "    <tr>\n",
       "      <th>3</th>\n",
       "      <td>7795-CFOCW</td>\n",
       "      <td>Male</td>\n",
       "      <td>0</td>\n",
       "      <td>No</td>\n",
       "      <td>No</td>\n",
       "      <td>45</td>\n",
       "      <td>No</td>\n",
       "      <td>No phone service</td>\n",
       "      <td>DSL</td>\n",
       "      <td>Yes</td>\n",
       "      <td>...</td>\n",
       "      <td>Yes</td>\n",
       "      <td>No</td>\n",
       "      <td>No</td>\n",
       "      <td>One year</td>\n",
       "      <td>No</td>\n",
       "      <td>Bank transfer (automatic)</td>\n",
       "      <td>42.30</td>\n",
       "      <td>1840.75</td>\n",
       "      <td>False</td>\n",
       "      <td>&lt;= 4 Year</td>\n",
       "    </tr>\n",
       "    <tr>\n",
       "      <th>4</th>\n",
       "      <td>9237-HQITU</td>\n",
       "      <td>Female</td>\n",
       "      <td>0</td>\n",
       "      <td>No</td>\n",
       "      <td>No</td>\n",
       "      <td>2</td>\n",
       "      <td>Yes</td>\n",
       "      <td>No</td>\n",
       "      <td>Fiber optic</td>\n",
       "      <td>No</td>\n",
       "      <td>...</td>\n",
       "      <td>No</td>\n",
       "      <td>No</td>\n",
       "      <td>No</td>\n",
       "      <td>Month-to-month</td>\n",
       "      <td>Yes</td>\n",
       "      <td>Electronic check</td>\n",
       "      <td>70.70</td>\n",
       "      <td>151.65</td>\n",
       "      <td>True</td>\n",
       "      <td>&lt;= 6 Months</td>\n",
       "    </tr>\n",
       "    <tr>\n",
       "      <th>...</th>\n",
       "      <td>...</td>\n",
       "      <td>...</td>\n",
       "      <td>...</td>\n",
       "      <td>...</td>\n",
       "      <td>...</td>\n",
       "      <td>...</td>\n",
       "      <td>...</td>\n",
       "      <td>...</td>\n",
       "      <td>...</td>\n",
       "      <td>...</td>\n",
       "      <td>...</td>\n",
       "      <td>...</td>\n",
       "      <td>...</td>\n",
       "      <td>...</td>\n",
       "      <td>...</td>\n",
       "      <td>...</td>\n",
       "      <td>...</td>\n",
       "      <td>...</td>\n",
       "      <td>...</td>\n",
       "      <td>...</td>\n",
       "      <td>...</td>\n",
       "    </tr>\n",
       "    <tr>\n",
       "      <th>7038</th>\n",
       "      <td>6840-RESVB</td>\n",
       "      <td>Male</td>\n",
       "      <td>0</td>\n",
       "      <td>Yes</td>\n",
       "      <td>Yes</td>\n",
       "      <td>24</td>\n",
       "      <td>Yes</td>\n",
       "      <td>Yes</td>\n",
       "      <td>DSL</td>\n",
       "      <td>Yes</td>\n",
       "      <td>...</td>\n",
       "      <td>Yes</td>\n",
       "      <td>Yes</td>\n",
       "      <td>Yes</td>\n",
       "      <td>One year</td>\n",
       "      <td>Yes</td>\n",
       "      <td>Mailed check</td>\n",
       "      <td>84.80</td>\n",
       "      <td>1990.5</td>\n",
       "      <td>False</td>\n",
       "      <td>&lt;= 2 Year</td>\n",
       "    </tr>\n",
       "    <tr>\n",
       "      <th>7039</th>\n",
       "      <td>2234-XADUH</td>\n",
       "      <td>Female</td>\n",
       "      <td>0</td>\n",
       "      <td>Yes</td>\n",
       "      <td>Yes</td>\n",
       "      <td>72</td>\n",
       "      <td>Yes</td>\n",
       "      <td>Yes</td>\n",
       "      <td>Fiber optic</td>\n",
       "      <td>No</td>\n",
       "      <td>...</td>\n",
       "      <td>No</td>\n",
       "      <td>Yes</td>\n",
       "      <td>Yes</td>\n",
       "      <td>One year</td>\n",
       "      <td>Yes</td>\n",
       "      <td>Credit card (automatic)</td>\n",
       "      <td>103.20</td>\n",
       "      <td>7362.9</td>\n",
       "      <td>False</td>\n",
       "      <td>&gt; 5 Year</td>\n",
       "    </tr>\n",
       "    <tr>\n",
       "      <th>7040</th>\n",
       "      <td>4801-JZAZL</td>\n",
       "      <td>Female</td>\n",
       "      <td>0</td>\n",
       "      <td>Yes</td>\n",
       "      <td>Yes</td>\n",
       "      <td>11</td>\n",
       "      <td>No</td>\n",
       "      <td>No phone service</td>\n",
       "      <td>DSL</td>\n",
       "      <td>Yes</td>\n",
       "      <td>...</td>\n",
       "      <td>No</td>\n",
       "      <td>No</td>\n",
       "      <td>No</td>\n",
       "      <td>Month-to-month</td>\n",
       "      <td>Yes</td>\n",
       "      <td>Electronic check</td>\n",
       "      <td>29.60</td>\n",
       "      <td>346.45</td>\n",
       "      <td>False</td>\n",
       "      <td>&lt;= 1 Year</td>\n",
       "    </tr>\n",
       "    <tr>\n",
       "      <th>7041</th>\n",
       "      <td>8361-LTMKD</td>\n",
       "      <td>Male</td>\n",
       "      <td>1</td>\n",
       "      <td>Yes</td>\n",
       "      <td>No</td>\n",
       "      <td>4</td>\n",
       "      <td>Yes</td>\n",
       "      <td>Yes</td>\n",
       "      <td>Fiber optic</td>\n",
       "      <td>No</td>\n",
       "      <td>...</td>\n",
       "      <td>No</td>\n",
       "      <td>No</td>\n",
       "      <td>No</td>\n",
       "      <td>Month-to-month</td>\n",
       "      <td>Yes</td>\n",
       "      <td>Mailed check</td>\n",
       "      <td>74.40</td>\n",
       "      <td>306.6</td>\n",
       "      <td>True</td>\n",
       "      <td>&lt;= 6 Months</td>\n",
       "    </tr>\n",
       "    <tr>\n",
       "      <th>7042</th>\n",
       "      <td>3186-AJIEK</td>\n",
       "      <td>Male</td>\n",
       "      <td>0</td>\n",
       "      <td>No</td>\n",
       "      <td>No</td>\n",
       "      <td>66</td>\n",
       "      <td>Yes</td>\n",
       "      <td>No</td>\n",
       "      <td>Fiber optic</td>\n",
       "      <td>Yes</td>\n",
       "      <td>...</td>\n",
       "      <td>Yes</td>\n",
       "      <td>Yes</td>\n",
       "      <td>Yes</td>\n",
       "      <td>Two year</td>\n",
       "      <td>Yes</td>\n",
       "      <td>Bank transfer (automatic)</td>\n",
       "      <td>105.65</td>\n",
       "      <td>6844.5</td>\n",
       "      <td>False</td>\n",
       "      <td>&gt; 5 Year</td>\n",
       "    </tr>\n",
       "  </tbody>\n",
       "</table>\n",
       "<p>7043 rows × 22 columns</p>\n",
       "</div>"
      ]
     },
     "execution_count": 23,
     "metadata": {},
     "output_type": "execute_result"
    }
   ],
   "execution_count": 23
  },
  {
   "metadata": {
    "ExecuteTime": {
     "end_time": "2024-12-13T06:44:05.657043Z",
     "start_time": "2024-12-13T06:44:05.643265Z"
    }
   },
   "cell_type": "code",
   "source": [
    "data['Phone_Internet_status'] = np.select(\n",
    "    condlist = [(data['PhoneService'] == 'Yes') & (data['InternetService'] == 'No'),\n",
    "                (data['PhoneService'] == 'Yes') & (data['InternetService'] != 'No'),\n",
    "                (data['PhoneService'] == 'No') & (data['InternetService'] != 'No')],\n",
    "    choicelist=['Only Phone', 'Phone and Internet', 'Only Internet'],\n",
    "    default=''\n",
    ")"
   ],
   "id": "11f79d9b0ff0ff43",
   "outputs": [],
   "execution_count": 24
  },
  {
   "metadata": {
    "ExecuteTime": {
     "end_time": "2024-12-13T06:44:05.676556Z",
     "start_time": "2024-12-13T06:44:05.657043Z"
    }
   },
   "cell_type": "code",
   "source": [
    "phone_internet_agg = data.groupby('Phone_Internet_status').agg(churn_rate = ('Churn', 'mean'), avg_monthly_charge=('MonthlyCharges', 'mean'))\n",
    "phone_internet_agg.assign(churn_rate = phone_internet_agg['churn_rate'] * 100)"
   ],
   "id": "33eba04dce62e2f7",
   "outputs": [
    {
     "data": {
      "text/plain": [
       "                       churn_rate  avg_monthly_charge\n",
       "Phone_Internet_status                                \n",
       "Only Internet           24.926686           42.028592\n",
       "Only Phone               7.404980           21.079194\n",
       "Phone and Internet      32.802482           81.755171"
      ],
      "text/html": [
       "<div>\n",
       "<style scoped>\n",
       "    .dataframe tbody tr th:only-of-type {\n",
       "        vertical-align: middle;\n",
       "    }\n",
       "\n",
       "    .dataframe tbody tr th {\n",
       "        vertical-align: top;\n",
       "    }\n",
       "\n",
       "    .dataframe thead th {\n",
       "        text-align: right;\n",
       "    }\n",
       "</style>\n",
       "<table border=\"1\" class=\"dataframe\">\n",
       "  <thead>\n",
       "    <tr style=\"text-align: right;\">\n",
       "      <th></th>\n",
       "      <th>churn_rate</th>\n",
       "      <th>avg_monthly_charge</th>\n",
       "    </tr>\n",
       "    <tr>\n",
       "      <th>Phone_Internet_status</th>\n",
       "      <th></th>\n",
       "      <th></th>\n",
       "    </tr>\n",
       "  </thead>\n",
       "  <tbody>\n",
       "    <tr>\n",
       "      <th>Only Internet</th>\n",
       "      <td>24.926686</td>\n",
       "      <td>42.028592</td>\n",
       "    </tr>\n",
       "    <tr>\n",
       "      <th>Only Phone</th>\n",
       "      <td>7.404980</td>\n",
       "      <td>21.079194</td>\n",
       "    </tr>\n",
       "    <tr>\n",
       "      <th>Phone and Internet</th>\n",
       "      <td>32.802482</td>\n",
       "      <td>81.755171</td>\n",
       "    </tr>\n",
       "  </tbody>\n",
       "</table>\n",
       "</div>"
      ]
     },
     "execution_count": 25,
     "metadata": {},
     "output_type": "execute_result"
    }
   ],
   "execution_count": 25
  },
  {
   "metadata": {
    "ExecuteTime": {
     "end_time": "2024-12-13T06:44:05.686739Z",
     "start_time": "2024-12-13T06:44:05.676556Z"
    }
   },
   "cell_type": "code",
   "source": [
    "without_Internet = data.loc[data['InternetService'] == 'No']['Churn'].mean() * 100\n",
    "without_Internet"
   ],
   "id": "3a124b780322d817",
   "outputs": [
    {
     "data": {
      "text/plain": [
       "np.float64(7.404980340760157)"
      ]
     },
     "execution_count": 26,
     "metadata": {},
     "output_type": "execute_result"
    }
   ],
   "execution_count": 26
  },
  {
   "metadata": {
    "ExecuteTime": {
     "end_time": "2024-12-13T06:44:05.699581Z",
     "start_time": "2024-12-13T06:44:05.688246Z"
    }
   },
   "cell_type": "code",
   "source": [
    "with_Internet = data.loc[data['InternetService'] != 'No']['Churn'].mean() * 100\n",
    "with_Internet"
   ],
   "id": "62b30ce64c19da91",
   "outputs": [
    {
     "data": {
      "text/plain": [
       "np.float64(31.828892514047492)"
      ]
     },
     "execution_count": 27,
     "metadata": {},
     "output_type": "execute_result"
    }
   ],
   "execution_count": 27
  },
  {
   "metadata": {
    "ExecuteTime": {
     "end_time": "2024-12-13T06:44:05.706595Z",
     "start_time": "2024-12-13T06:44:05.699581Z"
    }
   },
   "cell_type": "code",
   "source": "(with_Internet - without_Internet)/without_Internet * 100",
   "id": "76177764aed0b14c",
   "outputs": [
    {
     "data": {
      "text/plain": [
       "np.float64(329.8308847472254)"
      ]
     },
     "execution_count": 28,
     "metadata": {},
     "output_type": "execute_result"
    }
   ],
   "execution_count": 28
  },
  {
   "metadata": {
    "ExecuteTime": {
     "end_time": "2024-12-13T06:44:05.715547Z",
     "start_time": "2024-12-13T06:44:05.706595Z"
    }
   },
   "cell_type": "code",
   "source": [
    "# Customers with only phone service (No Internet) are least likely to churn with a churn rate of 7.4%\n",
    "# Customers with Internet (With or without phone) are 3.3X more likely to churn than customers without any internet.\n",
    "# This can be due to bad internet service provided by the company or \n",
    "# High Prices since average monthly price for only internet is 2x of the only phone service and \n",
    "# for phone + internet service its 4x of only phone service."
   ],
   "id": "64e48ab67fe9219a",
   "outputs": [],
   "execution_count": 29
  },
  {
   "metadata": {
    "ExecuteTime": {
     "end_time": "2024-12-13T06:44:05.750431Z",
     "start_time": "2024-12-13T06:44:05.715547Z"
    }
   },
   "cell_type": "code",
   "source": [
    "data\n",
    "# Impact of add-on services on churn rate\n",
    "# Add-on services\n",
    "# Online Security: Indicates if the customer subscribes to an additional online security service provided by the company: Yes, No\n",
    "# Online Backup: Indicates if the customer subscribes to an additional online backup service provided by the company: Yes, No\n",
    "# Device Protection Plan: Indicates if the customer subscribes to an additional device protection plan for their Internet equipment provided by the company: Yes, No\n",
    "#Premium Tech Support: Indicates if the customer subscribes to an additional technical support plan from the company with reduced wait times: Yes, No"
   ],
   "id": "9a4479f545043198",
   "outputs": [
    {
     "data": {
      "text/plain": [
       "      customerID  gender  SeniorCitizen Partner Dependents  tenure  \\\n",
       "0     7590-VHVEG  Female              0     Yes         No       1   \n",
       "1     5575-GNVDE    Male              0      No         No      34   \n",
       "2     3668-QPYBK    Male              0      No         No       2   \n",
       "3     7795-CFOCW    Male              0      No         No      45   \n",
       "4     9237-HQITU  Female              0      No         No       2   \n",
       "...          ...     ...            ...     ...        ...     ...   \n",
       "7038  6840-RESVB    Male              0     Yes        Yes      24   \n",
       "7039  2234-XADUH  Female              0     Yes        Yes      72   \n",
       "7040  4801-JZAZL  Female              0     Yes        Yes      11   \n",
       "7041  8361-LTMKD    Male              1     Yes         No       4   \n",
       "7042  3186-AJIEK    Male              0      No         No      66   \n",
       "\n",
       "     PhoneService     MultipleLines InternetService OnlineSecurity  ...  \\\n",
       "0              No  No phone service             DSL             No  ...   \n",
       "1             Yes                No             DSL            Yes  ...   \n",
       "2             Yes                No             DSL            Yes  ...   \n",
       "3              No  No phone service             DSL            Yes  ...   \n",
       "4             Yes                No     Fiber optic             No  ...   \n",
       "...           ...               ...             ...            ...  ...   \n",
       "7038          Yes               Yes             DSL            Yes  ...   \n",
       "7039          Yes               Yes     Fiber optic             No  ...   \n",
       "7040           No  No phone service             DSL            Yes  ...   \n",
       "7041          Yes               Yes     Fiber optic             No  ...   \n",
       "7042          Yes                No     Fiber optic            Yes  ...   \n",
       "\n",
       "     StreamingTV StreamingMovies        Contract PaperlessBilling  \\\n",
       "0             No              No  Month-to-month              Yes   \n",
       "1             No              No        One year               No   \n",
       "2             No              No  Month-to-month              Yes   \n",
       "3             No              No        One year               No   \n",
       "4             No              No  Month-to-month              Yes   \n",
       "...          ...             ...             ...              ...   \n",
       "7038         Yes             Yes        One year              Yes   \n",
       "7039         Yes             Yes        One year              Yes   \n",
       "7040          No              No  Month-to-month              Yes   \n",
       "7041          No              No  Month-to-month              Yes   \n",
       "7042         Yes             Yes        Two year              Yes   \n",
       "\n",
       "                  PaymentMethod MonthlyCharges TotalCharges  Churn  \\\n",
       "0              Electronic check          29.85        29.85  False   \n",
       "1                  Mailed check          56.95       1889.5  False   \n",
       "2                  Mailed check          53.85       108.15   True   \n",
       "3     Bank transfer (automatic)          42.30      1840.75  False   \n",
       "4              Electronic check          70.70       151.65   True   \n",
       "...                         ...            ...          ...    ...   \n",
       "7038               Mailed check          84.80       1990.5  False   \n",
       "7039    Credit card (automatic)         103.20       7362.9  False   \n",
       "7040           Electronic check          29.60       346.45  False   \n",
       "7041               Mailed check          74.40        306.6   True   \n",
       "7042  Bank transfer (automatic)         105.65       6844.5  False   \n",
       "\n",
       "      time_period Phone_Internet_status  \n",
       "0     <= 6 Months         Only Internet  \n",
       "1       <= 3 Year    Phone and Internet  \n",
       "2     <= 6 Months    Phone and Internet  \n",
       "3       <= 4 Year         Only Internet  \n",
       "4     <= 6 Months    Phone and Internet  \n",
       "...           ...                   ...  \n",
       "7038    <= 2 Year    Phone and Internet  \n",
       "7039     > 5 Year    Phone and Internet  \n",
       "7040    <= 1 Year         Only Internet  \n",
       "7041  <= 6 Months    Phone and Internet  \n",
       "7042     > 5 Year    Phone and Internet  \n",
       "\n",
       "[7043 rows x 23 columns]"
      ],
      "text/html": [
       "<div>\n",
       "<style scoped>\n",
       "    .dataframe tbody tr th:only-of-type {\n",
       "        vertical-align: middle;\n",
       "    }\n",
       "\n",
       "    .dataframe tbody tr th {\n",
       "        vertical-align: top;\n",
       "    }\n",
       "\n",
       "    .dataframe thead th {\n",
       "        text-align: right;\n",
       "    }\n",
       "</style>\n",
       "<table border=\"1\" class=\"dataframe\">\n",
       "  <thead>\n",
       "    <tr style=\"text-align: right;\">\n",
       "      <th></th>\n",
       "      <th>customerID</th>\n",
       "      <th>gender</th>\n",
       "      <th>SeniorCitizen</th>\n",
       "      <th>Partner</th>\n",
       "      <th>Dependents</th>\n",
       "      <th>tenure</th>\n",
       "      <th>PhoneService</th>\n",
       "      <th>MultipleLines</th>\n",
       "      <th>InternetService</th>\n",
       "      <th>OnlineSecurity</th>\n",
       "      <th>...</th>\n",
       "      <th>StreamingTV</th>\n",
       "      <th>StreamingMovies</th>\n",
       "      <th>Contract</th>\n",
       "      <th>PaperlessBilling</th>\n",
       "      <th>PaymentMethod</th>\n",
       "      <th>MonthlyCharges</th>\n",
       "      <th>TotalCharges</th>\n",
       "      <th>Churn</th>\n",
       "      <th>time_period</th>\n",
       "      <th>Phone_Internet_status</th>\n",
       "    </tr>\n",
       "  </thead>\n",
       "  <tbody>\n",
       "    <tr>\n",
       "      <th>0</th>\n",
       "      <td>7590-VHVEG</td>\n",
       "      <td>Female</td>\n",
       "      <td>0</td>\n",
       "      <td>Yes</td>\n",
       "      <td>No</td>\n",
       "      <td>1</td>\n",
       "      <td>No</td>\n",
       "      <td>No phone service</td>\n",
       "      <td>DSL</td>\n",
       "      <td>No</td>\n",
       "      <td>...</td>\n",
       "      <td>No</td>\n",
       "      <td>No</td>\n",
       "      <td>Month-to-month</td>\n",
       "      <td>Yes</td>\n",
       "      <td>Electronic check</td>\n",
       "      <td>29.85</td>\n",
       "      <td>29.85</td>\n",
       "      <td>False</td>\n",
       "      <td>&lt;= 6 Months</td>\n",
       "      <td>Only Internet</td>\n",
       "    </tr>\n",
       "    <tr>\n",
       "      <th>1</th>\n",
       "      <td>5575-GNVDE</td>\n",
       "      <td>Male</td>\n",
       "      <td>0</td>\n",
       "      <td>No</td>\n",
       "      <td>No</td>\n",
       "      <td>34</td>\n",
       "      <td>Yes</td>\n",
       "      <td>No</td>\n",
       "      <td>DSL</td>\n",
       "      <td>Yes</td>\n",
       "      <td>...</td>\n",
       "      <td>No</td>\n",
       "      <td>No</td>\n",
       "      <td>One year</td>\n",
       "      <td>No</td>\n",
       "      <td>Mailed check</td>\n",
       "      <td>56.95</td>\n",
       "      <td>1889.5</td>\n",
       "      <td>False</td>\n",
       "      <td>&lt;= 3 Year</td>\n",
       "      <td>Phone and Internet</td>\n",
       "    </tr>\n",
       "    <tr>\n",
       "      <th>2</th>\n",
       "      <td>3668-QPYBK</td>\n",
       "      <td>Male</td>\n",
       "      <td>0</td>\n",
       "      <td>No</td>\n",
       "      <td>No</td>\n",
       "      <td>2</td>\n",
       "      <td>Yes</td>\n",
       "      <td>No</td>\n",
       "      <td>DSL</td>\n",
       "      <td>Yes</td>\n",
       "      <td>...</td>\n",
       "      <td>No</td>\n",
       "      <td>No</td>\n",
       "      <td>Month-to-month</td>\n",
       "      <td>Yes</td>\n",
       "      <td>Mailed check</td>\n",
       "      <td>53.85</td>\n",
       "      <td>108.15</td>\n",
       "      <td>True</td>\n",
       "      <td>&lt;= 6 Months</td>\n",
       "      <td>Phone and Internet</td>\n",
       "    </tr>\n",
       "    <tr>\n",
       "      <th>3</th>\n",
       "      <td>7795-CFOCW</td>\n",
       "      <td>Male</td>\n",
       "      <td>0</td>\n",
       "      <td>No</td>\n",
       "      <td>No</td>\n",
       "      <td>45</td>\n",
       "      <td>No</td>\n",
       "      <td>No phone service</td>\n",
       "      <td>DSL</td>\n",
       "      <td>Yes</td>\n",
       "      <td>...</td>\n",
       "      <td>No</td>\n",
       "      <td>No</td>\n",
       "      <td>One year</td>\n",
       "      <td>No</td>\n",
       "      <td>Bank transfer (automatic)</td>\n",
       "      <td>42.30</td>\n",
       "      <td>1840.75</td>\n",
       "      <td>False</td>\n",
       "      <td>&lt;= 4 Year</td>\n",
       "      <td>Only Internet</td>\n",
       "    </tr>\n",
       "    <tr>\n",
       "      <th>4</th>\n",
       "      <td>9237-HQITU</td>\n",
       "      <td>Female</td>\n",
       "      <td>0</td>\n",
       "      <td>No</td>\n",
       "      <td>No</td>\n",
       "      <td>2</td>\n",
       "      <td>Yes</td>\n",
       "      <td>No</td>\n",
       "      <td>Fiber optic</td>\n",
       "      <td>No</td>\n",
       "      <td>...</td>\n",
       "      <td>No</td>\n",
       "      <td>No</td>\n",
       "      <td>Month-to-month</td>\n",
       "      <td>Yes</td>\n",
       "      <td>Electronic check</td>\n",
       "      <td>70.70</td>\n",
       "      <td>151.65</td>\n",
       "      <td>True</td>\n",
       "      <td>&lt;= 6 Months</td>\n",
       "      <td>Phone and Internet</td>\n",
       "    </tr>\n",
       "    <tr>\n",
       "      <th>...</th>\n",
       "      <td>...</td>\n",
       "      <td>...</td>\n",
       "      <td>...</td>\n",
       "      <td>...</td>\n",
       "      <td>...</td>\n",
       "      <td>...</td>\n",
       "      <td>...</td>\n",
       "      <td>...</td>\n",
       "      <td>...</td>\n",
       "      <td>...</td>\n",
       "      <td>...</td>\n",
       "      <td>...</td>\n",
       "      <td>...</td>\n",
       "      <td>...</td>\n",
       "      <td>...</td>\n",
       "      <td>...</td>\n",
       "      <td>...</td>\n",
       "      <td>...</td>\n",
       "      <td>...</td>\n",
       "      <td>...</td>\n",
       "      <td>...</td>\n",
       "    </tr>\n",
       "    <tr>\n",
       "      <th>7038</th>\n",
       "      <td>6840-RESVB</td>\n",
       "      <td>Male</td>\n",
       "      <td>0</td>\n",
       "      <td>Yes</td>\n",
       "      <td>Yes</td>\n",
       "      <td>24</td>\n",
       "      <td>Yes</td>\n",
       "      <td>Yes</td>\n",
       "      <td>DSL</td>\n",
       "      <td>Yes</td>\n",
       "      <td>...</td>\n",
       "      <td>Yes</td>\n",
       "      <td>Yes</td>\n",
       "      <td>One year</td>\n",
       "      <td>Yes</td>\n",
       "      <td>Mailed check</td>\n",
       "      <td>84.80</td>\n",
       "      <td>1990.5</td>\n",
       "      <td>False</td>\n",
       "      <td>&lt;= 2 Year</td>\n",
       "      <td>Phone and Internet</td>\n",
       "    </tr>\n",
       "    <tr>\n",
       "      <th>7039</th>\n",
       "      <td>2234-XADUH</td>\n",
       "      <td>Female</td>\n",
       "      <td>0</td>\n",
       "      <td>Yes</td>\n",
       "      <td>Yes</td>\n",
       "      <td>72</td>\n",
       "      <td>Yes</td>\n",
       "      <td>Yes</td>\n",
       "      <td>Fiber optic</td>\n",
       "      <td>No</td>\n",
       "      <td>...</td>\n",
       "      <td>Yes</td>\n",
       "      <td>Yes</td>\n",
       "      <td>One year</td>\n",
       "      <td>Yes</td>\n",
       "      <td>Credit card (automatic)</td>\n",
       "      <td>103.20</td>\n",
       "      <td>7362.9</td>\n",
       "      <td>False</td>\n",
       "      <td>&gt; 5 Year</td>\n",
       "      <td>Phone and Internet</td>\n",
       "    </tr>\n",
       "    <tr>\n",
       "      <th>7040</th>\n",
       "      <td>4801-JZAZL</td>\n",
       "      <td>Female</td>\n",
       "      <td>0</td>\n",
       "      <td>Yes</td>\n",
       "      <td>Yes</td>\n",
       "      <td>11</td>\n",
       "      <td>No</td>\n",
       "      <td>No phone service</td>\n",
       "      <td>DSL</td>\n",
       "      <td>Yes</td>\n",
       "      <td>...</td>\n",
       "      <td>No</td>\n",
       "      <td>No</td>\n",
       "      <td>Month-to-month</td>\n",
       "      <td>Yes</td>\n",
       "      <td>Electronic check</td>\n",
       "      <td>29.60</td>\n",
       "      <td>346.45</td>\n",
       "      <td>False</td>\n",
       "      <td>&lt;= 1 Year</td>\n",
       "      <td>Only Internet</td>\n",
       "    </tr>\n",
       "    <tr>\n",
       "      <th>7041</th>\n",
       "      <td>8361-LTMKD</td>\n",
       "      <td>Male</td>\n",
       "      <td>1</td>\n",
       "      <td>Yes</td>\n",
       "      <td>No</td>\n",
       "      <td>4</td>\n",
       "      <td>Yes</td>\n",
       "      <td>Yes</td>\n",
       "      <td>Fiber optic</td>\n",
       "      <td>No</td>\n",
       "      <td>...</td>\n",
       "      <td>No</td>\n",
       "      <td>No</td>\n",
       "      <td>Month-to-month</td>\n",
       "      <td>Yes</td>\n",
       "      <td>Mailed check</td>\n",
       "      <td>74.40</td>\n",
       "      <td>306.6</td>\n",
       "      <td>True</td>\n",
       "      <td>&lt;= 6 Months</td>\n",
       "      <td>Phone and Internet</td>\n",
       "    </tr>\n",
       "    <tr>\n",
       "      <th>7042</th>\n",
       "      <td>3186-AJIEK</td>\n",
       "      <td>Male</td>\n",
       "      <td>0</td>\n",
       "      <td>No</td>\n",
       "      <td>No</td>\n",
       "      <td>66</td>\n",
       "      <td>Yes</td>\n",
       "      <td>No</td>\n",
       "      <td>Fiber optic</td>\n",
       "      <td>Yes</td>\n",
       "      <td>...</td>\n",
       "      <td>Yes</td>\n",
       "      <td>Yes</td>\n",
       "      <td>Two year</td>\n",
       "      <td>Yes</td>\n",
       "      <td>Bank transfer (automatic)</td>\n",
       "      <td>105.65</td>\n",
       "      <td>6844.5</td>\n",
       "      <td>False</td>\n",
       "      <td>&gt; 5 Year</td>\n",
       "      <td>Phone and Internet</td>\n",
       "    </tr>\n",
       "  </tbody>\n",
       "</table>\n",
       "<p>7043 rows × 23 columns</p>\n",
       "</div>"
      ]
     },
     "execution_count": 30,
     "metadata": {},
     "output_type": "execute_result"
    }
   ],
   "execution_count": 30
  },
  {
   "metadata": {
    "ExecuteTime": {
     "end_time": "2024-12-13T06:50:34.954539Z",
     "start_time": "2024-12-13T06:50:34.942112Z"
    }
   },
   "cell_type": "code",
   "source": "data.groupby('OnlineSecurity')['Churn'].mean() * 100",
   "id": "8dfe0fb2233aa7ba",
   "outputs": [
    {
     "data": {
      "text/plain": [
       "OnlineSecurity\n",
       "No                     41.766724\n",
       "No internet service     7.404980\n",
       "Yes                    14.611194\n",
       "Name: Churn, dtype: float64"
      ]
     },
     "execution_count": 32,
     "metadata": {},
     "output_type": "execute_result"
    }
   ],
   "execution_count": 32
  },
  {
   "metadata": {
    "ExecuteTime": {
     "end_time": "2024-12-13T06:51:40.858281Z",
     "start_time": "2024-12-13T06:51:40.843421Z"
    }
   },
   "cell_type": "code",
   "source": "data.groupby('OnlineBackup')['Churn'].mean() * 100",
   "id": "8966cd13fb1b4b83",
   "outputs": [
    {
     "data": {
      "text/plain": [
       "OnlineBackup\n",
       "No                     39.928756\n",
       "No internet service     7.404980\n",
       "Yes                    21.531494\n",
       "Name: Churn, dtype: float64"
      ]
     },
     "execution_count": 33,
     "metadata": {},
     "output_type": "execute_result"
    }
   ],
   "execution_count": 33
  },
  {
   "metadata": {
    "ExecuteTime": {
     "end_time": "2024-12-13T06:52:26.460689Z",
     "start_time": "2024-12-13T06:52:26.450530Z"
    }
   },
   "cell_type": "code",
   "source": "data.groupby('DeviceProtection')['Churn'].mean() * 100",
   "id": "f21843934c6d0b90",
   "outputs": [
    {
     "data": {
      "text/plain": [
       "DeviceProtection\n",
       "No                     39.127625\n",
       "No internet service     7.404980\n",
       "Yes                    22.502064\n",
       "Name: Churn, dtype: float64"
      ]
     },
     "execution_count": 34,
     "metadata": {},
     "output_type": "execute_result"
    }
   ],
   "execution_count": 34
  },
  {
   "metadata": {
    "ExecuteTime": {
     "end_time": "2024-12-13T06:52:36.549697Z",
     "start_time": "2024-12-13T06:52:36.540019Z"
    }
   },
   "cell_type": "code",
   "source": "data.groupby('TechSupport')['Churn'].mean() * 100",
   "id": "9222e174c8bcbb9d",
   "outputs": [
    {
     "data": {
      "text/plain": [
       "TechSupport\n",
       "No                     41.635474\n",
       "No internet service     7.404980\n",
       "Yes                    15.166341\n",
       "Name: Churn, dtype: float64"
      ]
     },
     "execution_count": 35,
     "metadata": {},
     "output_type": "execute_result"
    }
   ],
   "execution_count": 35
  },
  {
   "metadata": {
    "ExecuteTime": {
     "end_time": "2024-12-13T06:53:11.282286Z",
     "start_time": "2024-12-13T06:53:11.264166Z"
    }
   },
   "cell_type": "code",
   "source": "data.groupby('StreamingTV')['Churn'].mean() * 100",
   "id": "66e8112fe37afe2",
   "outputs": [
    {
     "data": {
      "text/plain": [
       "StreamingTV\n",
       "No                     33.523132\n",
       "No internet service     7.404980\n",
       "Yes                    30.070188\n",
       "Name: Churn, dtype: float64"
      ]
     },
     "execution_count": 36,
     "metadata": {},
     "output_type": "execute_result"
    }
   ],
   "execution_count": 36
  },
  {
   "metadata": {
    "ExecuteTime": {
     "end_time": "2024-12-13T06:53:22.714291Z",
     "start_time": "2024-12-13T06:53:22.700033Z"
    }
   },
   "cell_type": "code",
   "source": "data.groupby('StreamingMovies')['Churn'].mean() * 100",
   "id": "f0eada87a67cecbb",
   "outputs": [
    {
     "data": {
      "text/plain": [
       "StreamingMovies\n",
       "No                     33.680431\n",
       "No internet service     7.404980\n",
       "Yes                    29.941435\n",
       "Name: Churn, dtype: float64"
      ]
     },
     "execution_count": 37,
     "metadata": {},
     "output_type": "execute_result"
    }
   ],
   "execution_count": 37
  },
  {
   "metadata": {
    "ExecuteTime": {
     "end_time": "2024-12-13T07:17:45.815675Z",
     "start_time": "2024-12-13T07:17:45.795911Z"
    }
   },
   "cell_type": "code",
   "source": [
    "internet_service_cust = data.loc[data['InternetService'] != 'No']\n",
    "add_on_new_data = internet_service_cust.assign(\n",
    "    OnlineSecurity = np.select(condlist=[internet_service_cust['OnlineSecurity'] == 'Yes'], choicelist=[1], default=0),\n",
    "    OnlineBackup = np.select(condlist=[internet_service_cust['OnlineBackup'] == 'Yes'], choicelist=[1], default=0),\n",
    "    TechSupport = np.select(condlist=[internet_service_cust['TechSupport'] == 'Yes'], choicelist=[1], default=0),\n",
    "    DeviceProtection = np.select(condlist=[internet_service_cust['DeviceProtection'] == 'Yes'], choicelist=[1], default=0),\n",
    "    StreamingTV = np.select(condlist=[internet_service_cust['StreamingTV'] == 'Yes'], choicelist=[1], default=0),\n",
    "    StreamingMovies = np.select(condlist=[internet_service_cust['StreamingMovies'] == 'Yes'], choicelist=[1], default=0)\n",
    ")"
   ],
   "id": "a99801adf9c3a4c7",
   "outputs": [],
   "execution_count": 58
  },
  {
   "metadata": {
    "ExecuteTime": {
     "end_time": "2024-12-13T07:17:47.987762Z",
     "start_time": "2024-12-13T07:17:47.978924Z"
    }
   },
   "cell_type": "code",
   "source": "add_on_new_data['No_of_add_on_service'] = add_on_new_data['OnlineSecurity'] + add_on_new_data['OnlineBackup'] + add_on_new_data['DeviceProtection'] + add_on_new_data['TechSupport']",
   "id": "1a5af70287ff94ce",
   "outputs": [],
   "execution_count": 60
  },
  {
   "metadata": {
    "ExecuteTime": {
     "end_time": "2024-12-13T07:37:53.541942Z",
     "start_time": "2024-12-13T07:37:53.528762Z"
    }
   },
   "cell_type": "code",
   "source": [
    "add_on_agg = add_on_new_data.groupby('No_of_add_on_service').agg(churn_rate = ('Churn', 'mean'), avg_monthly_charge = ('MonthlyCharges', 'mean'))\n",
    "add_on_agg['churn_rate'] = add_on_agg['churn_rate'] * 100\n",
    "add_on_agg"
   ],
   "id": "49ac62e10ecb78e5",
   "outputs": [
    {
     "data": {
      "text/plain": [
       "                      churn_rate  avg_monthly_charge\n",
       "No_of_add_on_service                                \n",
       "0                      56.669298           67.774783\n",
       "1                      38.854806           73.775494\n",
       "2                      23.760933           79.578280\n",
       "3                      12.433581           82.823964\n",
       "4                       5.319149           90.918511"
      ],
      "text/html": [
       "<div>\n",
       "<style scoped>\n",
       "    .dataframe tbody tr th:only-of-type {\n",
       "        vertical-align: middle;\n",
       "    }\n",
       "\n",
       "    .dataframe tbody tr th {\n",
       "        vertical-align: top;\n",
       "    }\n",
       "\n",
       "    .dataframe thead th {\n",
       "        text-align: right;\n",
       "    }\n",
       "</style>\n",
       "<table border=\"1\" class=\"dataframe\">\n",
       "  <thead>\n",
       "    <tr style=\"text-align: right;\">\n",
       "      <th></th>\n",
       "      <th>churn_rate</th>\n",
       "      <th>avg_monthly_charge</th>\n",
       "    </tr>\n",
       "    <tr>\n",
       "      <th>No_of_add_on_service</th>\n",
       "      <th></th>\n",
       "      <th></th>\n",
       "    </tr>\n",
       "  </thead>\n",
       "  <tbody>\n",
       "    <tr>\n",
       "      <th>0</th>\n",
       "      <td>56.669298</td>\n",
       "      <td>67.774783</td>\n",
       "    </tr>\n",
       "    <tr>\n",
       "      <th>1</th>\n",
       "      <td>38.854806</td>\n",
       "      <td>73.775494</td>\n",
       "    </tr>\n",
       "    <tr>\n",
       "      <th>2</th>\n",
       "      <td>23.760933</td>\n",
       "      <td>79.578280</td>\n",
       "    </tr>\n",
       "    <tr>\n",
       "      <th>3</th>\n",
       "      <td>12.433581</td>\n",
       "      <td>82.823964</td>\n",
       "    </tr>\n",
       "    <tr>\n",
       "      <th>4</th>\n",
       "      <td>5.319149</td>\n",
       "      <td>90.918511</td>\n",
       "    </tr>\n",
       "  </tbody>\n",
       "</table>\n",
       "</div>"
      ]
     },
     "execution_count": 67,
     "metadata": {},
     "output_type": "execute_result"
    }
   ],
   "execution_count": 67
  },
  {
   "metadata": {
    "ExecuteTime": {
     "end_time": "2024-12-13T07:39:30.008816Z",
     "start_time": "2024-12-13T07:39:29.997371Z"
    }
   },
   "cell_type": "code",
   "source": "(add_on_agg - add_on_agg.shift(-1))/add_on_agg * 100",
   "id": "776d94471b8f3c47",
   "outputs": [
    {
     "data": {
      "text/plain": [
       "                      churn_rate  avg_monthly_charge\n",
       "No_of_add_on_service                                \n",
       "0                      31.435879           -8.853900\n",
       "1                      38.846862           -7.865465\n",
       "2                      47.672167           -4.078605\n",
       "3                      57.219494           -9.773194\n",
       "4                            NaN                 NaN"
      ],
      "text/html": [
       "<div>\n",
       "<style scoped>\n",
       "    .dataframe tbody tr th:only-of-type {\n",
       "        vertical-align: middle;\n",
       "    }\n",
       "\n",
       "    .dataframe tbody tr th {\n",
       "        vertical-align: top;\n",
       "    }\n",
       "\n",
       "    .dataframe thead th {\n",
       "        text-align: right;\n",
       "    }\n",
       "</style>\n",
       "<table border=\"1\" class=\"dataframe\">\n",
       "  <thead>\n",
       "    <tr style=\"text-align: right;\">\n",
       "      <th></th>\n",
       "      <th>churn_rate</th>\n",
       "      <th>avg_monthly_charge</th>\n",
       "    </tr>\n",
       "    <tr>\n",
       "      <th>No_of_add_on_service</th>\n",
       "      <th></th>\n",
       "      <th></th>\n",
       "    </tr>\n",
       "  </thead>\n",
       "  <tbody>\n",
       "    <tr>\n",
       "      <th>0</th>\n",
       "      <td>31.435879</td>\n",
       "      <td>-8.853900</td>\n",
       "    </tr>\n",
       "    <tr>\n",
       "      <th>1</th>\n",
       "      <td>38.846862</td>\n",
       "      <td>-7.865465</td>\n",
       "    </tr>\n",
       "    <tr>\n",
       "      <th>2</th>\n",
       "      <td>47.672167</td>\n",
       "      <td>-4.078605</td>\n",
       "    </tr>\n",
       "    <tr>\n",
       "      <th>3</th>\n",
       "      <td>57.219494</td>\n",
       "      <td>-9.773194</td>\n",
       "    </tr>\n",
       "    <tr>\n",
       "      <th>4</th>\n",
       "      <td>NaN</td>\n",
       "      <td>NaN</td>\n",
       "    </tr>\n",
       "  </tbody>\n",
       "</table>\n",
       "</div>"
      ]
     },
     "execution_count": 68,
     "metadata": {},
     "output_type": "execute_result"
    }
   ],
   "execution_count": 68
  },
  {
   "metadata": {
    "ExecuteTime": {
     "end_time": "2024-12-13T07:39:52.400026Z",
     "start_time": "2024-12-13T07:39:52.381502Z"
    }
   },
   "cell_type": "code",
   "source": "((add_on_agg - add_on_agg.shift(-1))/add_on_agg * 100).mean()",
   "id": "c8dc254d9caae16f",
   "outputs": [
    {
     "data": {
      "text/plain": [
       "churn_rate            43.793601\n",
       "avg_monthly_charge    -7.642791\n",
       "dtype: float64"
      ]
     },
     "execution_count": 69,
     "metadata": {},
     "output_type": "execute_result"
    }
   ],
   "execution_count": 69
  },
  {
   "metadata": {},
   "cell_type": "code",
   "outputs": [],
   "execution_count": null,
   "source": [
    "# Customers without any add on service are the most likely to churn with churn rate of 56.66%\n",
    "# For each add on service the customer opt for churn rate drops by an average of 43.7% and avg_monthly charges increases by $7.64\n",
    "# Customers with all the add_on service are the least likely to churn with a churn rate of only ~5%"
   ],
   "id": "5a32a8cabf9015e4"
  },
  {
   "metadata": {
    "ExecuteTime": {
     "end_time": "2024-12-13T07:45:52.500431Z",
     "start_time": "2024-12-13T07:45:52.456620Z"
    }
   },
   "cell_type": "code",
   "source": [
    "add_on_new_data\n",
    "# Streaming TV: Indicates if the customer uses their Internet service to stream television programing from a third party provider: Yes, No. The company does not charge an additional fee for this service.\n",
    "# Streaming Movies: Indicates if the customer uses their Internet service to stream movies from a third party provider: Yes, No. The company does not charge an additional fee for this service."
   ],
   "id": "c5b695a2e3a9188f",
   "outputs": [
    {
     "data": {
      "text/plain": [
       "      customerID  gender  SeniorCitizen Partner Dependents  tenure  \\\n",
       "0     7590-VHVEG  Female              0     Yes         No       1   \n",
       "1     5575-GNVDE    Male              0      No         No      34   \n",
       "2     3668-QPYBK    Male              0      No         No       2   \n",
       "3     7795-CFOCW    Male              0      No         No      45   \n",
       "4     9237-HQITU  Female              0      No         No       2   \n",
       "...          ...     ...            ...     ...        ...     ...   \n",
       "7038  6840-RESVB    Male              0     Yes        Yes      24   \n",
       "7039  2234-XADUH  Female              0     Yes        Yes      72   \n",
       "7040  4801-JZAZL  Female              0     Yes        Yes      11   \n",
       "7041  8361-LTMKD    Male              1     Yes         No       4   \n",
       "7042  3186-AJIEK    Male              0      No         No      66   \n",
       "\n",
       "     PhoneService     MultipleLines InternetService  OnlineSecurity  ...  \\\n",
       "0              No  No phone service             DSL               0  ...   \n",
       "1             Yes                No             DSL               1  ...   \n",
       "2             Yes                No             DSL               1  ...   \n",
       "3              No  No phone service             DSL               1  ...   \n",
       "4             Yes                No     Fiber optic               0  ...   \n",
       "...           ...               ...             ...             ...  ...   \n",
       "7038          Yes               Yes             DSL               1  ...   \n",
       "7039          Yes               Yes     Fiber optic               0  ...   \n",
       "7040           No  No phone service             DSL               1  ...   \n",
       "7041          Yes               Yes     Fiber optic               0  ...   \n",
       "7042          Yes                No     Fiber optic               1  ...   \n",
       "\n",
       "      StreamingMovies        Contract  PaperlessBilling  \\\n",
       "0                   0  Month-to-month               Yes   \n",
       "1                   0        One year                No   \n",
       "2                   0  Month-to-month               Yes   \n",
       "3                   0        One year                No   \n",
       "4                   0  Month-to-month               Yes   \n",
       "...               ...             ...               ...   \n",
       "7038                1        One year               Yes   \n",
       "7039                1        One year               Yes   \n",
       "7040                0  Month-to-month               Yes   \n",
       "7041                0  Month-to-month               Yes   \n",
       "7042                1        Two year               Yes   \n",
       "\n",
       "                  PaymentMethod  MonthlyCharges TotalCharges  Churn  \\\n",
       "0              Electronic check           29.85        29.85  False   \n",
       "1                  Mailed check           56.95       1889.5  False   \n",
       "2                  Mailed check           53.85       108.15   True   \n",
       "3     Bank transfer (automatic)           42.30      1840.75  False   \n",
       "4              Electronic check           70.70       151.65   True   \n",
       "...                         ...             ...          ...    ...   \n",
       "7038               Mailed check           84.80       1990.5  False   \n",
       "7039    Credit card (automatic)          103.20       7362.9  False   \n",
       "7040           Electronic check           29.60       346.45  False   \n",
       "7041               Mailed check           74.40        306.6   True   \n",
       "7042  Bank transfer (automatic)          105.65       6844.5  False   \n",
       "\n",
       "      time_period  Phone_Internet_status No_of_add_on_service  \n",
       "0     <= 6 Months          Only Internet                    1  \n",
       "1       <= 3 Year     Phone and Internet                    2  \n",
       "2     <= 6 Months     Phone and Internet                    2  \n",
       "3       <= 4 Year          Only Internet                    3  \n",
       "4     <= 6 Months     Phone and Internet                    0  \n",
       "...           ...                    ...                  ...  \n",
       "7038    <= 2 Year     Phone and Internet                    3  \n",
       "7039     > 5 Year     Phone and Internet                    2  \n",
       "7040    <= 1 Year          Only Internet                    1  \n",
       "7041  <= 6 Months     Phone and Internet                    0  \n",
       "7042     > 5 Year     Phone and Internet                    3  \n",
       "\n",
       "[5517 rows x 24 columns]"
      ],
      "text/html": [
       "<div>\n",
       "<style scoped>\n",
       "    .dataframe tbody tr th:only-of-type {\n",
       "        vertical-align: middle;\n",
       "    }\n",
       "\n",
       "    .dataframe tbody tr th {\n",
       "        vertical-align: top;\n",
       "    }\n",
       "\n",
       "    .dataframe thead th {\n",
       "        text-align: right;\n",
       "    }\n",
       "</style>\n",
       "<table border=\"1\" class=\"dataframe\">\n",
       "  <thead>\n",
       "    <tr style=\"text-align: right;\">\n",
       "      <th></th>\n",
       "      <th>customerID</th>\n",
       "      <th>gender</th>\n",
       "      <th>SeniorCitizen</th>\n",
       "      <th>Partner</th>\n",
       "      <th>Dependents</th>\n",
       "      <th>tenure</th>\n",
       "      <th>PhoneService</th>\n",
       "      <th>MultipleLines</th>\n",
       "      <th>InternetService</th>\n",
       "      <th>OnlineSecurity</th>\n",
       "      <th>...</th>\n",
       "      <th>StreamingMovies</th>\n",
       "      <th>Contract</th>\n",
       "      <th>PaperlessBilling</th>\n",
       "      <th>PaymentMethod</th>\n",
       "      <th>MonthlyCharges</th>\n",
       "      <th>TotalCharges</th>\n",
       "      <th>Churn</th>\n",
       "      <th>time_period</th>\n",
       "      <th>Phone_Internet_status</th>\n",
       "      <th>No_of_add_on_service</th>\n",
       "    </tr>\n",
       "  </thead>\n",
       "  <tbody>\n",
       "    <tr>\n",
       "      <th>0</th>\n",
       "      <td>7590-VHVEG</td>\n",
       "      <td>Female</td>\n",
       "      <td>0</td>\n",
       "      <td>Yes</td>\n",
       "      <td>No</td>\n",
       "      <td>1</td>\n",
       "      <td>No</td>\n",
       "      <td>No phone service</td>\n",
       "      <td>DSL</td>\n",
       "      <td>0</td>\n",
       "      <td>...</td>\n",
       "      <td>0</td>\n",
       "      <td>Month-to-month</td>\n",
       "      <td>Yes</td>\n",
       "      <td>Electronic check</td>\n",
       "      <td>29.85</td>\n",
       "      <td>29.85</td>\n",
       "      <td>False</td>\n",
       "      <td>&lt;= 6 Months</td>\n",
       "      <td>Only Internet</td>\n",
       "      <td>1</td>\n",
       "    </tr>\n",
       "    <tr>\n",
       "      <th>1</th>\n",
       "      <td>5575-GNVDE</td>\n",
       "      <td>Male</td>\n",
       "      <td>0</td>\n",
       "      <td>No</td>\n",
       "      <td>No</td>\n",
       "      <td>34</td>\n",
       "      <td>Yes</td>\n",
       "      <td>No</td>\n",
       "      <td>DSL</td>\n",
       "      <td>1</td>\n",
       "      <td>...</td>\n",
       "      <td>0</td>\n",
       "      <td>One year</td>\n",
       "      <td>No</td>\n",
       "      <td>Mailed check</td>\n",
       "      <td>56.95</td>\n",
       "      <td>1889.5</td>\n",
       "      <td>False</td>\n",
       "      <td>&lt;= 3 Year</td>\n",
       "      <td>Phone and Internet</td>\n",
       "      <td>2</td>\n",
       "    </tr>\n",
       "    <tr>\n",
       "      <th>2</th>\n",
       "      <td>3668-QPYBK</td>\n",
       "      <td>Male</td>\n",
       "      <td>0</td>\n",
       "      <td>No</td>\n",
       "      <td>No</td>\n",
       "      <td>2</td>\n",
       "      <td>Yes</td>\n",
       "      <td>No</td>\n",
       "      <td>DSL</td>\n",
       "      <td>1</td>\n",
       "      <td>...</td>\n",
       "      <td>0</td>\n",
       "      <td>Month-to-month</td>\n",
       "      <td>Yes</td>\n",
       "      <td>Mailed check</td>\n",
       "      <td>53.85</td>\n",
       "      <td>108.15</td>\n",
       "      <td>True</td>\n",
       "      <td>&lt;= 6 Months</td>\n",
       "      <td>Phone and Internet</td>\n",
       "      <td>2</td>\n",
       "    </tr>\n",
       "    <tr>\n",
       "      <th>3</th>\n",
       "      <td>7795-CFOCW</td>\n",
       "      <td>Male</td>\n",
       "      <td>0</td>\n",
       "      <td>No</td>\n",
       "      <td>No</td>\n",
       "      <td>45</td>\n",
       "      <td>No</td>\n",
       "      <td>No phone service</td>\n",
       "      <td>DSL</td>\n",
       "      <td>1</td>\n",
       "      <td>...</td>\n",
       "      <td>0</td>\n",
       "      <td>One year</td>\n",
       "      <td>No</td>\n",
       "      <td>Bank transfer (automatic)</td>\n",
       "      <td>42.30</td>\n",
       "      <td>1840.75</td>\n",
       "      <td>False</td>\n",
       "      <td>&lt;= 4 Year</td>\n",
       "      <td>Only Internet</td>\n",
       "      <td>3</td>\n",
       "    </tr>\n",
       "    <tr>\n",
       "      <th>4</th>\n",
       "      <td>9237-HQITU</td>\n",
       "      <td>Female</td>\n",
       "      <td>0</td>\n",
       "      <td>No</td>\n",
       "      <td>No</td>\n",
       "      <td>2</td>\n",
       "      <td>Yes</td>\n",
       "      <td>No</td>\n",
       "      <td>Fiber optic</td>\n",
       "      <td>0</td>\n",
       "      <td>...</td>\n",
       "      <td>0</td>\n",
       "      <td>Month-to-month</td>\n",
       "      <td>Yes</td>\n",
       "      <td>Electronic check</td>\n",
       "      <td>70.70</td>\n",
       "      <td>151.65</td>\n",
       "      <td>True</td>\n",
       "      <td>&lt;= 6 Months</td>\n",
       "      <td>Phone and Internet</td>\n",
       "      <td>0</td>\n",
       "    </tr>\n",
       "    <tr>\n",
       "      <th>...</th>\n",
       "      <td>...</td>\n",
       "      <td>...</td>\n",
       "      <td>...</td>\n",
       "      <td>...</td>\n",
       "      <td>...</td>\n",
       "      <td>...</td>\n",
       "      <td>...</td>\n",
       "      <td>...</td>\n",
       "      <td>...</td>\n",
       "      <td>...</td>\n",
       "      <td>...</td>\n",
       "      <td>...</td>\n",
       "      <td>...</td>\n",
       "      <td>...</td>\n",
       "      <td>...</td>\n",
       "      <td>...</td>\n",
       "      <td>...</td>\n",
       "      <td>...</td>\n",
       "      <td>...</td>\n",
       "      <td>...</td>\n",
       "      <td>...</td>\n",
       "    </tr>\n",
       "    <tr>\n",
       "      <th>7038</th>\n",
       "      <td>6840-RESVB</td>\n",
       "      <td>Male</td>\n",
       "      <td>0</td>\n",
       "      <td>Yes</td>\n",
       "      <td>Yes</td>\n",
       "      <td>24</td>\n",
       "      <td>Yes</td>\n",
       "      <td>Yes</td>\n",
       "      <td>DSL</td>\n",
       "      <td>1</td>\n",
       "      <td>...</td>\n",
       "      <td>1</td>\n",
       "      <td>One year</td>\n",
       "      <td>Yes</td>\n",
       "      <td>Mailed check</td>\n",
       "      <td>84.80</td>\n",
       "      <td>1990.5</td>\n",
       "      <td>False</td>\n",
       "      <td>&lt;= 2 Year</td>\n",
       "      <td>Phone and Internet</td>\n",
       "      <td>3</td>\n",
       "    </tr>\n",
       "    <tr>\n",
       "      <th>7039</th>\n",
       "      <td>2234-XADUH</td>\n",
       "      <td>Female</td>\n",
       "      <td>0</td>\n",
       "      <td>Yes</td>\n",
       "      <td>Yes</td>\n",
       "      <td>72</td>\n",
       "      <td>Yes</td>\n",
       "      <td>Yes</td>\n",
       "      <td>Fiber optic</td>\n",
       "      <td>0</td>\n",
       "      <td>...</td>\n",
       "      <td>1</td>\n",
       "      <td>One year</td>\n",
       "      <td>Yes</td>\n",
       "      <td>Credit card (automatic)</td>\n",
       "      <td>103.20</td>\n",
       "      <td>7362.9</td>\n",
       "      <td>False</td>\n",
       "      <td>&gt; 5 Year</td>\n",
       "      <td>Phone and Internet</td>\n",
       "      <td>2</td>\n",
       "    </tr>\n",
       "    <tr>\n",
       "      <th>7040</th>\n",
       "      <td>4801-JZAZL</td>\n",
       "      <td>Female</td>\n",
       "      <td>0</td>\n",
       "      <td>Yes</td>\n",
       "      <td>Yes</td>\n",
       "      <td>11</td>\n",
       "      <td>No</td>\n",
       "      <td>No phone service</td>\n",
       "      <td>DSL</td>\n",
       "      <td>1</td>\n",
       "      <td>...</td>\n",
       "      <td>0</td>\n",
       "      <td>Month-to-month</td>\n",
       "      <td>Yes</td>\n",
       "      <td>Electronic check</td>\n",
       "      <td>29.60</td>\n",
       "      <td>346.45</td>\n",
       "      <td>False</td>\n",
       "      <td>&lt;= 1 Year</td>\n",
       "      <td>Only Internet</td>\n",
       "      <td>1</td>\n",
       "    </tr>\n",
       "    <tr>\n",
       "      <th>7041</th>\n",
       "      <td>8361-LTMKD</td>\n",
       "      <td>Male</td>\n",
       "      <td>1</td>\n",
       "      <td>Yes</td>\n",
       "      <td>No</td>\n",
       "      <td>4</td>\n",
       "      <td>Yes</td>\n",
       "      <td>Yes</td>\n",
       "      <td>Fiber optic</td>\n",
       "      <td>0</td>\n",
       "      <td>...</td>\n",
       "      <td>0</td>\n",
       "      <td>Month-to-month</td>\n",
       "      <td>Yes</td>\n",
       "      <td>Mailed check</td>\n",
       "      <td>74.40</td>\n",
       "      <td>306.6</td>\n",
       "      <td>True</td>\n",
       "      <td>&lt;= 6 Months</td>\n",
       "      <td>Phone and Internet</td>\n",
       "      <td>0</td>\n",
       "    </tr>\n",
       "    <tr>\n",
       "      <th>7042</th>\n",
       "      <td>3186-AJIEK</td>\n",
       "      <td>Male</td>\n",
       "      <td>0</td>\n",
       "      <td>No</td>\n",
       "      <td>No</td>\n",
       "      <td>66</td>\n",
       "      <td>Yes</td>\n",
       "      <td>No</td>\n",
       "      <td>Fiber optic</td>\n",
       "      <td>1</td>\n",
       "      <td>...</td>\n",
       "      <td>1</td>\n",
       "      <td>Two year</td>\n",
       "      <td>Yes</td>\n",
       "      <td>Bank transfer (automatic)</td>\n",
       "      <td>105.65</td>\n",
       "      <td>6844.5</td>\n",
       "      <td>False</td>\n",
       "      <td>&gt; 5 Year</td>\n",
       "      <td>Phone and Internet</td>\n",
       "      <td>3</td>\n",
       "    </tr>\n",
       "  </tbody>\n",
       "</table>\n",
       "<p>5517 rows × 24 columns</p>\n",
       "</div>"
      ]
     },
     "execution_count": 71,
     "metadata": {},
     "output_type": "execute_result"
    }
   ],
   "execution_count": 71
  },
  {
   "metadata": {
    "ExecuteTime": {
     "end_time": "2024-12-13T07:51:04.855357Z",
     "start_time": "2024-12-13T07:51:04.845594Z"
    }
   },
   "cell_type": "code",
   "source": [
    "add_on_new_data['Streaming_Movies_TV'] = add_on_new_data['StreamingMovies'] + add_on_new_data['StreamingTV']\n",
    "stream_agg = add_on_new_data.groupby('Streaming_Movies_TV')['Churn'].mean() * 100\n",
    "stream_agg"
   ],
   "id": "a63eac2e5b098e7e",
   "outputs": [
    {
     "data": {
      "text/plain": [
       "Streaming_Movies_TV\n",
       "0    34.440040\n",
       "1    31.430404\n",
       "2    29.432990\n",
       "Name: Churn, dtype: float64"
      ]
     },
     "execution_count": 75,
     "metadata": {},
     "output_type": "execute_result"
    }
   ],
   "execution_count": 75
  },
  {
   "metadata": {
    "ExecuteTime": {
     "end_time": "2024-12-13T07:51:06.714315Z",
     "start_time": "2024-12-13T07:51:06.692440Z"
    }
   },
   "cell_type": "code",
   "source": "(stream_agg - stream_agg.shift(-1))/stream_agg * 100",
   "id": "60d5e23f61081281",
   "outputs": [
    {
     "data": {
      "text/plain": [
       "Streaming_Movies_TV\n",
       "0    8.738769\n",
       "1    6.355039\n",
       "2         NaN\n",
       "Name: Churn, dtype: float64"
      ]
     },
     "execution_count": 76,
     "metadata": {},
     "output_type": "execute_result"
    }
   ],
   "execution_count": 76
  },
  {
   "metadata": {
    "ExecuteTime": {
     "end_time": "2024-12-13T08:00:23.588580Z",
     "start_time": "2024-12-13T08:00:23.577935Z"
    }
   },
   "cell_type": "code",
   "source": "stream_agg.mean()",
   "id": "2bbbe8b278cee3fc",
   "outputs": [
    {
     "data": {
      "text/plain": [
       "np.float64(31.76781114637613)"
      ]
     },
     "execution_count": 77,
     "metadata": {},
     "output_type": "execute_result"
    }
   ],
   "execution_count": 77
  },
  {
   "metadata": {},
   "cell_type": "code",
   "outputs": [],
   "execution_count": null,
   "source": [
    "# Since Streaming Movies or TV using the internet service provided by the company is free of cost,\n",
    "# It does not seem to have huge impact churn rate, i.e. regardless of whether customer chooses to stream movies/tv, both or none the average churn rate is 31.76%"
   ],
   "id": "19253b3f3ecc5659"
  },
  {
   "metadata": {
    "ExecuteTime": {
     "end_time": "2024-12-13T08:03:53.302997Z",
     "start_time": "2024-12-13T08:03:53.293359Z"
    }
   },
   "cell_type": "code",
   "source": "data.groupby('Contract')['Churn'].mean() * 100",
   "id": "1a057612af62706c",
   "outputs": [
    {
     "data": {
      "text/plain": [
       "Contract\n",
       "Month-to-month    42.709677\n",
       "One year          11.269518\n",
       "Two year           2.831858\n",
       "Name: Churn, dtype: float64"
      ]
     },
     "execution_count": 79,
     "metadata": {},
     "output_type": "execute_result"
    }
   ],
   "execution_count": 79
  },
  {
   "metadata": {
    "ExecuteTime": {
     "end_time": "2024-12-13T08:05:16.361741Z",
     "start_time": "2024-12-13T08:05:16.350602Z"
    }
   },
   "cell_type": "code",
   "source": "data.groupby('PaperlessBilling')['Churn'].mean() * 100",
   "id": "4207c4230d61fe50",
   "outputs": [
    {
     "data": {
      "text/plain": [
       "PaperlessBilling\n",
       "No     16.330084\n",
       "Yes    33.565092\n",
       "Name: Churn, dtype: float64"
      ]
     },
     "execution_count": 81,
     "metadata": {},
     "output_type": "execute_result"
    }
   ],
   "execution_count": 81
  },
  {
   "metadata": {
    "ExecuteTime": {
     "end_time": "2024-12-13T08:05:48.135674Z",
     "start_time": "2024-12-13T08:05:48.128461Z"
    }
   },
   "cell_type": "code",
   "source": "data.groupby('PaymentMethod')['Churn'].mean() * 100",
   "id": "24b6794aaeec8af3",
   "outputs": [
    {
     "data": {
      "text/plain": [
       "PaymentMethod\n",
       "Bank transfer (automatic)    16.709845\n",
       "Credit card (automatic)      15.243101\n",
       "Electronic check             45.285412\n",
       "Mailed check                 19.106700\n",
       "Name: Churn, dtype: float64"
      ]
     },
     "execution_count": 83,
     "metadata": {},
     "output_type": "execute_result"
    }
   ],
   "execution_count": 83
  },
  {
   "metadata": {
    "ExecuteTime": {
     "end_time": "2024-12-13T08:07:38.579889Z",
     "start_time": "2024-12-13T08:07:38.575405Z"
    }
   },
   "cell_type": "code",
   "source": [
    "# customers who prefer month-to-month payment plan are the most likely to churn with a churn rate of 42.70%\n",
    "# Customers with 2 year of plan are the least likely to churn with a churn rate of 2.8%\n",
    "# Customers who opt for paperless billing are 2x more likely to churn than customers without paperless billing\n",
    "# customers who opt for automatic transactions are the least likely to churn (Indicating a preferred mode of payment)."
   ],
   "id": "1a3bef757257289b",
   "outputs": [],
   "execution_count": 84
  }
 ],
 "metadata": {
  "kernelspec": {
   "display_name": "Python 3",
   "language": "python",
   "name": "python3"
  },
  "language_info": {
   "codemirror_mode": {
    "name": "ipython",
    "version": 2
   },
   "file_extension": ".py",
   "mimetype": "text/x-python",
   "name": "python",
   "nbconvert_exporter": "python",
   "pygments_lexer": "ipython2",
   "version": "2.7.6"
  }
 },
 "nbformat": 4,
 "nbformat_minor": 5
}
